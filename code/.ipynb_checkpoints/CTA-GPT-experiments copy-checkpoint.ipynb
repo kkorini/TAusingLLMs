{
 "cells": [
  {
   "cell_type": "code",
   "execution_count": 1,
   "id": "307f1685",
   "metadata": {},
   "outputs": [],
   "source": [
    "import os\n",
    "import sys\n",
    "from dotenv import dotenv_values\n",
    "from langchain.chat_models import ChatOpenAI\n",
    "from langchain.schema import SystemMessage, HumanMessage, AIMessage\n",
    "from utils import map_cta_labels, map_answers_column, map_sportstables, calculate_f1_scores, save_pickle_file, load_cta_dataset, load_pickle_file, load_cta_dataset_column, decimal\n",
    "import tqdm\n",
    "import random"
   ]
  },
  {
   "cell_type": "code",
   "execution_count": null,
   "id": "0658d609",
   "metadata": {},
   "outputs": [],
   "source": [
    "#! pip install python-dotenv"
   ]
  },
  {
   "cell_type": "code",
   "execution_count": 3,
   "id": "7b6a4ff6",
   "metadata": {},
   "outputs": [],
   "source": [
    "dataset=\"sotabv2\"\n",
    "examples, labels, test_table_type_labels, train_examples, train_example_labels, train_table_type_labels, labels_to_text, text_to_label, labels_joined, train, test = load_cta_dataset(dataset,\"\")\n",
    "# examples_demonstrations = load_pickle_file(f\"embeddings/examples_demonstrations_{dataset}.pkl\")\n",
    "# cc_examples_demonstratons = load_pickle_file(f\"embeddings/cc_examples_demonstrations_{dataset}.pkl\")    "
   ]
  },
  {
   "cell_type": "code",
   "execution_count": 3,
   "id": "57a1d8ee",
   "metadata": {},
   "outputs": [],
   "source": [
    "test_embeddings = load_pickle_file(f'embeddings/test_embeddings_{dataset}.pkl')\n",
    "train_embeddings = load_pickle_file(f'embeddings/train_embeddings_{dataset}.pkl')"
   ]
  },
  {
   "cell_type": "code",
   "execution_count": 4,
   "id": "fff49480",
   "metadata": {},
   "outputs": [],
   "source": [
    "from sklearn.metrics.pairwise import cosine_similarity\n",
    "training_similarity_matrix = cosine_similarity(train_embeddings, train_embeddings)"
   ]
  },
  {
   "cell_type": "code",
   "execution_count": 7,
   "id": "dfb7c03d",
   "metadata": {},
   "outputs": [],
   "source": [
    "table = load_pickle_file(\"../data/nonoverlap_train_sotabv2.pkl\")"
   ]
  },
  {
   "cell_type": "code",
   "execution_count": null,
   "id": "8b91d202",
   "metadata": {},
   "outputs": [],
   "source": [
    "def find_most_similar_with_diff_labels(train_index):\n",
    "    # Arrange cosine similarity in dictionary\n",
    "    train_simdisim_dict = {}\n",
    "    for j, c in enumerate(training_similarity_matrix[train_index]):\n",
    "        train_simdisim_dict[j] = c\n",
    "\n",
    "    # Sort dictionary\n",
    "    sorted_train_simdisim_dict = {k: v for k, v in sorted(train_simdisim_dict.items(), reverse=True, key=lambda item: item[1])}\n",
    "\n",
    "    selected_index = 0\n",
    "\n",
    "    if len([key for key in list(sorted_train_simdisim_dict.keys())[:20] if table[train_index][key] > 1]) == 0:\n",
    "        #smth\n",
    "        # print(\"in\")\n",
    "        for key in sorted_train_simdisim_dict:\n",
    "            if table[train_index][key] > 1:\n",
    "                selected_index = key\n",
    "                break\n",
    "    else:\n",
    "        #normal way\n",
    "        max = 0\n",
    "        id = 0\n",
    "        for key in list(sorted_train_simdisim_dict.keys())[:20]:\n",
    "            if table[train_index][key] > max:\n",
    "                id = key\n",
    "        selected_index = id\n",
    "\n",
    "    return selected_index"
   ]
  },
  {
   "cell_type": "code",
   "execution_count": 10,
   "id": "2fd69a72",
   "metadata": {},
   "outputs": [],
   "source": [
    "cc_demonstrations = []\n",
    "for i in range(len(examples)):\n",
    "    cc_indices = []\n",
    "    for index in examples_demonstrations[i][-2:]:\n",
    "        cc_indices.append(index)\n",
    "        other_index = find_most_similar_with_diff_labels(index)\n",
    "        cc_indices.append(other_index)\n",
    "    cc_demonstrations.append(cc_indices)"
   ]
  },
  {
   "cell_type": "code",
   "execution_count": 20,
   "id": "3ac14639",
   "metadata": {},
   "outputs": [],
   "source": [
    "save_pickle_file(f\"embeddings/cc_examples_demonstrations_{dataset}.pkl\", cc_demonstrations)"
   ]
  },
  {
   "cell_type": "code",
   "execution_count": 48,
   "id": "323dcee9",
   "metadata": {},
   "outputs": [],
   "source": [
    "# i = 2\n",
    "i += 1"
   ]
  },
  {
   "cell_type": "code",
   "execution_count": 49,
   "id": "ac70bf61",
   "metadata": {},
   "outputs": [
    {
     "data": {
      "text/plain": [
       "[8090, 36977, 6356, 36977]"
      ]
     },
     "execution_count": 49,
     "metadata": {},
     "output_type": "execute_result"
    }
   ],
   "source": [
    "cc_demonstrations[i]"
   ]
  },
  {
   "cell_type": "code",
   "execution_count": 50,
   "id": "947973f7",
   "metadata": {},
   "outputs": [
    {
     "name": "stdout",
     "output_type": "stream",
     "text": [
      "Column 1 || Column 2 || \n",
      "Blu Grotto || (732) 571-7900 ||\n",
      "Blu Grotto || (732) 571-7900 ||\n",
      "\n"
     ]
    }
   ],
   "source": [
    "print(examples[i])"
   ]
  },
  {
   "cell_type": "code",
   "execution_count": 53,
   "id": "2caa5aee",
   "metadata": {},
   "outputs": [
    {
     "data": {
      "text/plain": [
       "['Place/name', 'telephone']"
      ]
     },
     "execution_count": 53,
     "metadata": {},
     "output_type": "execute_result"
    }
   ],
   "source": [
    "test[i][2]"
   ]
  },
  {
   "cell_type": "code",
   "execution_count": 54,
   "id": "ff2985b7",
   "metadata": {},
   "outputs": [
    {
     "name": "stdout",
     "output_type": "stream",
     "text": [
      "Column 1 || \n",
      "727-6361 ||\n",
      "(631) 586-9409 ||\n",
      "722-4106 ||\n",
      "(631) 574-8100 ||\n",
      "204-0711 ||\n",
      "\n"
     ]
    }
   ],
   "source": [
    "print(train_examples[cc_demonstrations[i][0]])"
   ]
  },
  {
   "cell_type": "code",
   "execution_count": 55,
   "id": "b43e8f20",
   "metadata": {},
   "outputs": [
    {
     "data": {
      "text/plain": [
       "'Column 1: fax number'"
      ]
     },
     "execution_count": 55,
     "metadata": {},
     "output_type": "execute_result"
    }
   ],
   "source": [
    "train_example_labels[cc_demonstrations[i][0]]"
   ]
  },
  {
   "cell_type": "code",
   "execution_count": 44,
   "id": "daddb599",
   "metadata": {},
   "outputs": [
    {
     "name": "stdout",
     "output_type": "stream",
     "text": [
      "Column 1 || Column 2 || \n",
      "2020-02-01T15:00:00 ||  ||\n",
      "2020-01-10T19:00:00 ||  ||\n",
      "2019-10-05T12:00:00 ||  ||\n",
      "2019-10-03T20:00:00 ||  ||\n",
      "2019-09-13T20:00:00 || 2019-09-15T20:00:00 ||\n",
      "\n"
     ]
    }
   ],
   "source": [
    "print(train_examples[cc_demonstrations[i][1]])"
   ]
  },
  {
   "cell_type": "code",
   "execution_count": 35,
   "id": "80654548",
   "metadata": {},
   "outputs": [
    {
     "data": {
      "text/plain": [
       "'Column 1: url'"
      ]
     },
     "execution_count": 35,
     "metadata": {},
     "output_type": "execute_result"
    }
   ],
   "source": [
    "train_example_labels[cc_demonstrations[i][1]]"
   ]
  },
  {
   "cell_type": "code",
   "execution_count": 4,
   "id": "37fe0620",
   "metadata": {
    "scrolled": true
   },
   "outputs": [],
   "source": [
    "# Load env file with API KEY using full path\n",
    "config = dotenv_values(\"key.env\")\n",
    "os.environ['OPENAI_API_KEY'] = config[\"OPENAI_API_KEY\"]\n",
    "OPENAI_API_KEY = config[\"OPENAI_API_KEY\"]"
   ]
  },
  {
   "cell_type": "code",
   "execution_count": 3,
   "id": "12131723",
   "metadata": {},
   "outputs": [],
   "source": [
    "datasets = [\"sotabv2\", \"t2dv2-webtables\", \"sportstables\"]\n",
    "models = [\"gpt-3.5-turbo-0301\", \"gpt-4-0613\"]"
   ]
  },
  {
   "cell_type": "markdown",
   "id": "70d65b43",
   "metadata": {},
   "source": [
    "## Column-prompts experiments"
   ]
  },
  {
   "cell_type": "code",
   "execution_count": null,
   "id": "bfd4cddc",
   "metadata": {
    "scrolled": true
   },
   "outputs": [],
   "source": [
    "for model_name in models:\n",
    "    print(model_name)\n",
    "    \n",
    "    for dataset in datasets[:2]:\n",
    "        print(dataset)\n",
    "        # Load dataset\n",
    "        examples, labels, train_examples, train_labels, labels_to_text, text_to_label, labels_joined, train, test = load_cta_dataset_column(dataset,\"\")\n",
    "\n",
    "        # Load embeddings\n",
    "        train_embeddings = load_pickle_file(f\"embeddings/train_embeddings_{dataset}-column.pkl\")\n",
    "        test_embeddings = load_pickle_file(f\"embeddings/test_embeddings_{dataset}-column.pkl\")\n",
    "        examples_demonstrations = load_pickle_file(f\"embeddings/examples_demonstrations_{dataset}-column.pkl\")\n",
    "\n",
    "        chat = ChatOpenAI(openai_api_key=OPENAI_API_KEY, temperature=0, model=model_name)\n",
    "        \n",
    "        #Zero-shot and Few-shot random demonstrations:\n",
    "        for nr in [0, 1, 5]:\n",
    "            preds = []\n",
    "\n",
    "            for example in tqdm.tqdm(examples, total=len(examples)):\n",
    "                messages = []\n",
    "                messages.append(SystemMessage(content=f\"You are a world-class data engineer and your task is to annotate a given column with only one of the following labels that are separated with comma: {labels_joined}.\"))\n",
    "                messages.append(SystemMessage(content=\"Your instructions are: 1. Look at the column and the labels given to you. 2. Examine the values of the column. 3. Select a label that best represents the meaning of the column. 4. Answer with the selected label. 5. Answer only with labels from the provided label set!\"))\n",
    "\n",
    "                for i in range(0,nr):\n",
    "                    index = random.randint(0, len(train_examples)-1)\n",
    "                    messages.append(HumanMessage(content=f\"Classify this column: {train_examples[index]}\"))\n",
    "                    messages.append(AIMessage(content=f\"{train_labels[index]}\"))\n",
    "\n",
    "                messages.append(HumanMessage(content=f\"Classify this column: {example}\"))\n",
    "                res = chat(messages)\n",
    "                preds.append(res.content)\n",
    "            save_pickle_file(f\"predictions/{dataset}/{model_name}/chat-column-{nr}-shot.pkl\", preds)\n",
    "\n",
    "        # Few-shot similar demonstrations\n",
    "        for nr in [1, 5]:\n",
    "            preds = []\n",
    "\n",
    "            for i, example in tqdm.tqdm(enumerate(examples), total=len(examples)):\n",
    "                messages = []\n",
    "                messages.append(SystemMessage(content=f\"You are a world-class data engineer and your task is to annotate a given column with only one of the following labels that are separated with comma: {labels_joined}.\"))\n",
    "                messages.append(SystemMessage(content=\"Your instructions are: 1. Look at the column and the labels given to you. 2. Examine the values of the column. 3. Select a label that best represents the meaning of the column. 4. Answer with the selected label. 5. Answer only with labels from the provided label set!\"))#\n",
    "\n",
    "                for index in examples_demonstrations[i][-nr:]:\n",
    "                    messages.append(HumanMessage(content=f\"Classify this column: {train_examples[index]}\"))\n",
    "                    messages.append(AIMessage(content=f\"{train_labels[index]}\"))\n",
    "\n",
    "                messages.append(HumanMessage(content=f\"Classify this column: {example}\"))\n",
    "                res = chat(messages)\n",
    "                preds.append(res.content)\n",
    "            save_pickle_file(f\"predictions/{dataset}/{model_name}/chat-column-{nr}-similar-shot.pkl\", preds)"
   ]
  },
  {
   "cell_type": "markdown",
   "id": "9a3d98d1",
   "metadata": {},
   "source": [
    "## Table-prompts experiments"
   ]
  },
  {
   "cell_type": "code",
   "execution_count": null,
   "id": "7147705c",
   "metadata": {
    "scrolled": true
   },
   "outputs": [],
   "source": [
    "for model_name in models:\n",
    "    print(model_name)\n",
    "    for dataset in datasets[:2]:\n",
    "        print(dataset)\n",
    "        # Load dataset\n",
    "        examples, labels, test_table_type_labels, train_examples, train_example_labels, train_table_type_labels, labels_to_text, text_to_label, labels_joined, train, test = load_cta_dataset(dataset,\"\")\n",
    "        examples_demonstrations = load_pickle_file(f\"embeddings/examples_demonstrations_{dataset}.pkl\")\n",
    "        cc_examples_demonstratons = load_pickle_file(f\"embeddings/cc_examples_demonstrations_{dataset}.pkl\")\n",
    "        \n",
    "        chat = ChatOpenAI(openai_api_key=OPENAI_API_KEY, temperature=0, model=model_name)\n",
    "        \n",
    "        #Zero-shot and Few-shot random demonstrations:\n",
    "        for nr in [0, 1, 5]:\n",
    "            preds = []\n",
    "\n",
    "            for example in tqdm.tqdm(examples, total=len(examples)):\n",
    "                messages = []\n",
    "                messages.append(SystemMessage(content=f\"You are a world-class data engineer and your task is to annotate the columns of a given table with only one of the following labels that are separated with comma: {labels_joined}.\"))\n",
    "                messages.append(SystemMessage(content=\"Your instructions are: 1. Look at the input given to you and make a table out of it. 2. Look at the cell values in detail. 3. For each column, select a label that best represents the meaning of all cells in the column. 4. Answer with the selected label for each column using the format Column1: label. 5. Answer only with labels from the provided label set!\"))\n",
    "\n",
    "                for i in range(0,nr):\n",
    "                    index = random.randint(0, len(train_examples)-1)\n",
    "                    messages.append(HumanMessage(content=f\"Classify these table columns: {train_examples[index]}\"))\n",
    "                    messages.append(AIMessage(content=f\"{train_example_labels[index]}\"))\n",
    "\n",
    "                messages.append(HumanMessage(content=f\"Classify these table columns: {example}\"))\n",
    "                res = chat(messages)\n",
    "                preds.append(res.content)\n",
    "            save_pickle_file(f\"predictions/{dataset}/{model_name}/chat-table-{nr}-shot.pkl\", preds) #-run{run}\n",
    "\n",
    "        # Few-shot similar demonstrations\n",
    "        for nr in [1, 5]:\n",
    "            preds = []\n",
    "\n",
    "            for i, example in tqdm.tqdm(enumerate(examples), total=len(examples)):\n",
    "                messages = []\n",
    "                messages.append(SystemMessage(content=f\"You are a world-class data engineer and your task is to annotate the columns of a given table with only one of the following labels that are separated with comma: {labels_joined}.\"))\n",
    "                messages.append(SystemMessage(content=\"Your instructions are: 1. Look at the input given to you and make a table out of it. 2. Look at the cell values in detail. 3. For each column, select a label that best represents the meaning of all cells in the column. 4. Answer with the selected label for each column using the format Column1: label. 5. Answer only with labels from the provided label set!\"))\n",
    "\n",
    "                for index in examples_demonstrations[i][-nr:]:\n",
    "                    messages.append(HumanMessage(content=f\"Classify these table columns: {train_examples[index]}\"))\n",
    "                    messages.append(AIMessage(content=f\"{train_example_labels[index]}\"))\n",
    "\n",
    "                messages.append(HumanMessage(content=f\"Classify these table columns: {example}\"))\n",
    "                res = chat(messages)\n",
    "                preds.append(res.content)\n",
    "            save_pickle_file(f\"predictions/{dataset}/{model_name}/chat-table-{nr}-similar-shot.pkl\", preds)\n",
    "\n",
    "        # Few-shot corner-case demonstrations\n",
    "        preds = []\n",
    "        for i, example in tqdm.tqdm(enumerate(examples), total=len(examples)):\n",
    "            messages = []\n",
    "\n",
    "            #Task and instructions\n",
    "            messages.append(SystemMessage(content=f\"You are a world-class data engineer and your task is to annotate the columns of a given table with only one of the following labels that are separated with comma: {labels_joined}.\"))\n",
    "            messages.append(SystemMessage(content=\"Your instructions are: 1. Look at the input given to you and make a table out of it. 2. Look at the cell values in detail. 3. For each column, select a label that best represents the meaning of all cells in the column. 4. Answer with the selected label for each column using the format Column1: label. 5. Answer only with labels from the provided label set!\"))\n",
    "\n",
    "            # Add the 5 most similar training examples\n",
    "            for index in cc_examples_demonstratons[i]:\n",
    "                messages.append(HumanMessage(content=f\"Classify these table columns: {train_examples[index]}\"))\n",
    "                messages.append(AIMessage(content=f\"{train_example_labels[index]}\"))\n",
    "\n",
    "            messages.append(HumanMessage(content=f\"Classify these table columns: {example}\"))\n",
    "            res = chat(messages)\n",
    "            preds.append(res.content)\n",
    "        save_pickle_file(f\"predictions/{dataset}/{model_name}/chat-table-4-cc-shot.pkl\", preds)"
   ]
  },
  {
   "cell_type": "markdown",
   "id": "4035897c",
   "metadata": {},
   "source": [
    "## Two-step Approach"
   ]
  },
  {
   "cell_type": "code",
   "execution_count": null,
   "id": "365963fa",
   "metadata": {},
   "outputs": [],
   "source": [
    "def get_clean_table_prediction(table_pred, domains):\n",
    "    cleaned_table_pred=\"-\"\n",
    "    for dom in domains:\n",
    "#     for dom in new_domains:\n",
    "        if dom in table_pred:\n",
    "            cleaned_table_pred = dom\n",
    "            break\n",
    "    return cleaned_table_pred"
   ]
  },
  {
   "cell_type": "code",
   "execution_count": null,
   "id": "1afa9b43",
   "metadata": {},
   "outputs": [],
   "source": [
    "task_messages = {\n",
    "    \"t1\": f\"Your task is to classify a table into one of these domains: \",\n",
    "    \"t2\": f\"You are a world-class data engineer and your task is to classify a table into one of these domains: \",    \n",
    "}\n",
    "\n",
    "instruction_messages = {\n",
    "    \"i1\": \"Your instructions are: 1. Look at the input given to you and make a table out of it. 2. Look at the cell values in detail. 3. Decide the domain that best represents the table. 4. Answer with one domain.\",\n",
    "    \"i2\": \"Your instructions are: 1. Look at the input given to you and make a table out of it. 2. Look at the cell values in detail. 3. Decide the domain that best represents the table. 4. Answer with one domain. 5. If you are not sure, pick the most likely domain.\",\n",
    "    \"i3\": \"Your instructions are: 1. Look at the input given to you and make a table out of it. 2. Look at the cell values in detail. 3. Decide the domain that best represents the table. 4. Answer with one domain. 5. Answer only with the domains given to you!\",\n",
    "}"
   ]
  },
  {
   "cell_type": "code",
   "execution_count": null,
   "id": "9d8f062b",
   "metadata": {},
   "outputs": [],
   "source": [
    "for dataset in datasets[:2]:\n",
    "    # Load dataset\n",
    "    examples, labels, test_table_type_labels, train_examples, train_example_labels, train_table_type_labels, labels_to_text, text_to_label, labels_joined, train, test = load_cta_dataset(dataset,\"\")    \n",
    "    # Load domain labels\n",
    "    domains = list(set(train_table_type_labels))\n",
    "    domains_list = \", \".join(domains)\n",
    "    labels_dict = {}\n",
    "    for dom in domains:\n",
    "        f = open(f\"../data/{dataset}-labels/{dataset}_{dom}_labels.txt\", 'r')\n",
    "        t = [line.split('\\n')[0] for line in f.readlines()]\n",
    "        labels_dict[dom] = t\n",
    "    \n",
    "    for model_name in models:\n",
    "        print(model_name)\n",
    "        chat = ChatOpenAI(openai_api_key=OPENAI_API_KEY, temperature=0, model=model_name)\n",
    "\n",
    "        #Few-shot and zero-shot random\n",
    "        for nr in [0, 1, 5]:\n",
    "            print(nr)\n",
    "            table_preds = []\n",
    "            preds = []\n",
    "\n",
    "            for example in tqdm.tqdm(examples, total=len(examples)):\n",
    "                \n",
    "                #Step 1\n",
    "                messages = []\n",
    "                #Task and instructions\n",
    "                messages.append(SystemMessage(content=task_messages[\"t2\"]+f\" {domains_list}.\"))\n",
    "                messages.append(SystemMessage(content=instruction_messages[\"i2\"]))\n",
    "\n",
    "                for i in range(0, nr):\n",
    "                    index = random.randint(0, len(train_examples)-1)\n",
    "                    messages.append(HumanMessage(content=f\"Classify this table: {train_examples[index]}\"))\n",
    "                    messages.append(AIMessage(content=f\"{train_table_type_labels[index]}\"))\n",
    "                    \n",
    "                messages.append(HumanMessage(content=f\"Classify this table:\\n{example}\"))\n",
    "\n",
    "                res = chat(messages)\n",
    "                table_preds.append(res.content)\n",
    "\n",
    "                clean_prediction = get_clean_table_prediction(res.content.strip(), domains)\n",
    "                                \n",
    "                # Step 2\n",
    "                messages = []\n",
    "                \n",
    "                #Show only a subset of labels related to the table type predicted\n",
    "                if clean_prediction != \"-\":\n",
    "                    labels_dom = \", \".join([labels_to_text[l] for l in labels_dict[clean_prediction]])\n",
    "                else:\n",
    "                    labels_dom = labels_joined\n",
    "                    \n",
    "                #Show only a subset of labels related to the table type predicted\n",
    "                messages.append(SystemMessage(content=f\"You are a world-class data engineer and your task is to annotate the columns of a given table with only one of the following labels that are separated with comma: {labels_dom}.\"))\n",
    "                messages.append(SystemMessage(content=\"Your instructions are: 1. Look at the input given to you and make a table out of it. 2. Look at the cell values in detail. 3. For each column, select a label that best represents the meaning of all cells in the column. 4. Answer with the selected label for each column using the format Column1: label. 5. Answer only with labels from the provided label set!\"))\n",
    "                \n",
    "                \n",
    "                # Pick random demonstrations from the predicted table type in step one otherwise pick one from all the set\n",
    "                for m in range(0,nr):\n",
    "                    if clean_prediction != \"-\" and clean_prediction in train_table_type_labels:\n",
    "                        index = random.choice([j for j, e in enumerate(train_table_type_labels) if e == clean_prediction])\n",
    "                    else:\n",
    "                        index = random.randint(0, len(train_examples)-1)\n",
    "                    messages.append(HumanMessage(content=f\"Classify these table columns: {train_examples[index]}\"))\n",
    "                    messages.append(AIMessage(content=f\"{train_example_labels[index]}\"))\n",
    "                    \n",
    "                messages.append(HumanMessage(content=f\"Classify these table columns: {example}\"))\n",
    "                res = chat(messages)\n",
    "                preds.append(res.content)\n",
    "                \n",
    "\n",
    "            save_pickle_file(f\"predictions/{dataset}/{model_name}/chat-two-step-{nr}-shot-step1.pkl\", table_preds)\n",
    "            save_pickle_file(f\"predictions/{dataset}/{model_name}/chat-two-step-{nr}-shot-step2.pkl\", preds)"
   ]
  },
  {
   "cell_type": "markdown",
   "id": "3f08f800",
   "metadata": {},
   "source": [
    "## Evaluation"
   ]
  },
  {
   "cell_type": "code",
   "execution_count": null,
   "id": "bbb0da29",
   "metadata": {},
   "outputs": [],
   "source": [
    "# Column-prompt evaluation\n",
    "for nr in [0, 1, 5]:\n",
    "    preds = load_pickle_file(f\"predictions/{dataset}/{model_name}/chat-column-{nr}-shot.pkl\")\n",
    "    labels = [l for l in labels if l!=\"\"]\n",
    "    predictions, num = map_answers_column(preds)\n",
    "    types = list(set(labels))\n",
    "    types = types + [\"-\"] if '-' in predictions else types\n",
    "    evaluation, per_class_eval = calculate_f1_scores(labels, predictions, len(types), types)\n",
    "    print(f\"{decimal(evaluation['Precision'])}\\t{decimal(evaluation['Recall'])}\\t{decimal(evaluation['Macro-F1'])}\\t{decimal(evaluation['Micro-F1'])}\\t{num}\")"
   ]
  },
  {
   "cell_type": "code",
   "execution_count": null,
   "id": "ba97d4a6",
   "metadata": {},
   "outputs": [],
   "source": [
    "# Table-prompt evaluation\n",
    "for nr in [0, 1, 5,\"5-similar\",\"4-cc\"]:\n",
    "    preds = load_pickle_file(f\"predictions/{dataset}/{model_name}/chat-table-{nr}-shot.pkl\")\n",
    "    predictions, num = map_cta_labels(preds, test, text_to_label)\n",
    "    labels = [l for l in labels if l!=\"\"]\n",
    "    \n",
    "    predictions, num = map_cta_labels(preds)\n",
    "    types = list(set(labels))\n",
    "    types = types + [\"-\"] if '-' in predictions else types\n",
    "    evaluation, per_class_eval = calculate_f1_scores(labels, predictions, len(types), types)\n",
    "    print(f\"{decimal(evaluation['Precision'])}\\t{decimal(evaluation['Recall'])}\\t{decimal(evaluation['Macro-F1'])}\\t{decimal(evaluation['Micro-F1'])}\\t{num}\")"
   ]
  },
  {
   "cell_type": "code",
   "execution_count": null,
   "id": "845176e2",
   "metadata": {},
   "outputs": [],
   "source": [
    "# Sportstables table-prompt\n",
    "for nr in [0, 1, 5,\"5-similar\",\"4-cc\"]:\n",
    "    preds = load_pickle_file(f\"predictions/{dataset}/{model_name}/chat-table-{nr}-shot.pkl\")\n",
    "    predictions, num = map_cta_labels(preds, test, text_to_label)\n",
    "    labels = [l for l in labels if l!=\"\"]\n",
    "    \n",
    "    predictions, num = map_sportstables(preds)\n",
    "    types = list(set(labels))\n",
    "    types = types + [\"-\"] if '-' in predictions else types\n",
    "    evaluation, per_class_eval = calculate_f1_scores(labels, predictions, len(types), types)\n",
    "    print(f\"{decimal(evaluation['Precision'])}\\t{decimal(evaluation['Recall'])}\\t{decimal(evaluation['Macro-F1'])}\\t{decimal(evaluation['Micro-F1'])}\\t{num}\")"
   ]
  },
  {
   "cell_type": "code",
   "execution_count": null,
   "id": "c9c5797d",
   "metadata": {
    "scrolled": true
   },
   "outputs": [],
   "source": [
    "for class_ in per_class_eval:\n",
    "    print(f\"{class_}: {per_class_eval[class_]['F1']}\")"
   ]
  },
  {
   "cell_type": "markdown",
   "id": "b07d8006",
   "metadata": {},
   "source": [
    "## Error Analysis"
   ]
  },
  {
   "cell_type": "code",
   "execution_count": null,
   "id": "960b5c02",
   "metadata": {
    "scrolled": true
   },
   "outputs": [],
   "source": [
    "errors = 0\n",
    "errors_per_class = {}\n",
    "for i in range(len(predictions)):\n",
    "    if predictions[i] != labels[i]:\n",
    "        errors += 1\n",
    "        print(f\"Predicted as {predictions[i]} when it was {labels[i]}\")\n",
    "        if labels[i] not in errors_per_class:\n",
    "            errors_per_class[labels[i]] = 0\n",
    "        errors_per_class[labels[i]] +=1\n",
    "errors"
   ]
  },
  {
   "cell_type": "markdown",
   "id": "6558619f",
   "metadata": {},
   "source": [
    "### Re-map to label space"
   ]
  },
  {
   "cell_type": "code",
   "execution_count": 5,
   "id": "f3d6a169",
   "metadata": {},
   "outputs": [
    {
     "ename": "FileNotFoundError",
     "evalue": "[Errno 2] No such file or directory: 'icde-predictions/sotabv2/gpt-3.5-turbo-0301/chat-table-zero-shot.pkl'",
     "output_type": "error",
     "traceback": [
      "\u001b[1;31m---------------------------------------------------------------------------\u001b[0m",
      "\u001b[1;31mFileNotFoundError\u001b[0m                         Traceback (most recent call last)",
      "Cell \u001b[1;32mIn[5], line 5\u001b[0m\n\u001b[0;32m      3\u001b[0m model_name \u001b[38;5;241m=\u001b[39m \u001b[38;5;124m\"\u001b[39m\u001b[38;5;124mgpt-3.5-turbo-0301\u001b[39m\u001b[38;5;124m\"\u001b[39m\n\u001b[0;32m      4\u001b[0m chat \u001b[38;5;241m=\u001b[39m ChatOpenAI(openai_api_key\u001b[38;5;241m=\u001b[39mOPENAI_API_KEY, temperature\u001b[38;5;241m=\u001b[39m\u001b[38;5;241m0\u001b[39m, model\u001b[38;5;241m=\u001b[39mmodel_name)\n\u001b[1;32m----> 5\u001b[0m preds \u001b[38;5;241m=\u001b[39m \u001b[43mload_pickle_file\u001b[49m\u001b[43m(\u001b[49m\u001b[38;5;124;43mf\u001b[39;49m\u001b[38;5;124;43m\"\u001b[39;49m\u001b[38;5;124;43micde-predictions/\u001b[39;49m\u001b[38;5;132;43;01m{\u001b[39;49;00m\u001b[43mdataset\u001b[49m\u001b[38;5;132;43;01m}\u001b[39;49;00m\u001b[38;5;124;43m/\u001b[39;49m\u001b[38;5;132;43;01m{\u001b[39;49;00m\u001b[43mmodel_name\u001b[49m\u001b[38;5;132;43;01m}\u001b[39;49;00m\u001b[38;5;124;43m/chat-table-zero-shot.pkl\u001b[39;49m\u001b[38;5;124;43m\"\u001b[39;49m\u001b[43m)\u001b[49m\n",
      "File \u001b[1;32m~\\Documents\\PhD\\TADA_VLDB2023\\TabAnnGPT\\TAusingLLMs\\code\\utils.py:22\u001b[0m, in \u001b[0;36mload_pickle_file\u001b[1;34m(file_name)\u001b[0m\n\u001b[0;32m     20\u001b[0m \u001b[38;5;28;01mdef\u001b[39;00m \u001b[38;5;21mload_pickle_file\u001b[39m(file_name):\n\u001b[0;32m     21\u001b[0m     \u001b[38;5;66;03m# Load .pkl file\u001b[39;00m\n\u001b[1;32m---> 22\u001b[0m     \u001b[38;5;28;01mwith\u001b[39;00m \u001b[38;5;28;43mopen\u001b[39;49m\u001b[43m(\u001b[49m\u001b[43mfile_name\u001b[49m\u001b[43m,\u001b[49m\u001b[43m \u001b[49m\u001b[38;5;124;43m\"\u001b[39;49m\u001b[38;5;124;43mrb\u001b[39;49m\u001b[38;5;124;43m\"\u001b[39;49m\u001b[43m)\u001b[49m \u001b[38;5;28;01mas\u001b[39;00m f:\n\u001b[0;32m     23\u001b[0m         file \u001b[38;5;241m=\u001b[39m pickle\u001b[38;5;241m.\u001b[39mload(f)\n\u001b[0;32m     24\u001b[0m     \u001b[38;5;28;01mreturn\u001b[39;00m file\n",
      "\u001b[1;31mFileNotFoundError\u001b[0m: [Errno 2] No such file or directory: 'icde-predictions/sotabv2/gpt-3.5-turbo-0301/chat-table-zero-shot.pkl'"
     ]
    }
   ],
   "source": [
    "# Load the dataset + predictions\n",
    "dataset = \"sotabv2\"\n",
    "model_name = \"gpt-3.5-turbo-0301\"\n",
    "chat = ChatOpenAI(openai_api_key=OPENAI_API_KEY, temperature=0, model=model_name)\n",
    "preds = load_pickle_file(f\"icde-predictions/{dataset}/{model_name}/chat-table-zero-shot.pkl\")"
   ]
  },
  {
   "cell_type": "code",
   "execution_count": 5,
   "id": "e20e2d4f",
   "metadata": {
    "scrolled": false
   },
   "outputs": [
    {
     "name": "stdout",
     "output_type": "stream",
     "text": [
      "69.16\t57.81\t58.91\t66.76\t185\n"
     ]
    },
    {
     "name": "stderr",
     "output_type": "stream",
     "text": [
      "/ceph/kkorini/LLM/TabAnnGPT/utils.py:180: RuntimeWarning: invalid value encountered in double_scalars\n",
      "  f1 = 2*precision*recall / (precision + recall)\n",
      "/ceph/kkorini/LLM/TabAnnGPT/utils.py:178: RuntimeWarning: invalid value encountered in double_scalars\n",
      "  precision = report[j]['TP'] / (report[j]['TP'] + report[j]['FP'])\n",
      "/ceph/kkorini/LLM/TabAnnGPT/utils.py:179: RuntimeWarning: invalid value encountered in double_scalars\n",
      "  recall = report[j]['TP'] / (report[j]['TP'] + report[j]['FN'])\n"
     ]
    }
   ],
   "source": [
    "# Get the OOV indices and OOV answers\n",
    "predictions, num, oov_indices, oov, oov_table_indices, oov_tablecolumn_indices = map_cta_labels(preds, test, text_to_label)\n",
    "types = list(set(labels))\n",
    "types = types + [\"-\"] if '-' in predictions else types\n",
    "evaluation, per_class_eval = calculate_f1_scores(labels, predictions, len(types), types)\n",
    "print(f\"{decimal(evaluation['Precision'])}\\t{decimal(evaluation['Recall'])}\\t{decimal(evaluation['Macro-F1'])}\\t{decimal(evaluation['Micro-F1'])}\\t{num}\")"
   ]
  },
  {
   "cell_type": "code",
   "execution_count": 6,
   "id": "d6a71067",
   "metadata": {},
   "outputs": [],
   "source": [
    "label_embeddings = load_pickle_file(f\"../data/{dataset}-labels/{dataset}_all_labels_embeddings.pkl\")"
   ]
  },
  {
   "cell_type": "code",
   "execution_count": 7,
   "id": "4325ca8d",
   "metadata": {},
   "outputs": [],
   "source": [
    "# Column dataset\n",
    "c_examples, _, c_train_examples, c_train_labels, _, _, _, _, _ = load_cta_dataset_column(dataset,\"\")"
   ]
  },
  {
   "cell_type": "code",
   "execution_count": 8,
   "id": "40725baa",
   "metadata": {},
   "outputs": [
    {
     "data": {
      "text/plain": [
       "'2020-07-10 2016-04-08 2013-09-13 2016-08-05 2019-05-10'"
      ]
     },
     "execution_count": 8,
     "metadata": {},
     "output_type": "execute_result"
    }
   ],
   "source": [
    "c_train_examples[0]"
   ]
  },
  {
   "cell_type": "code",
   "execution_count": 9,
   "id": "aac464c1",
   "metadata": {},
   "outputs": [
    {
     "data": {
      "text/plain": [
       "'date'"
      ]
     },
     "execution_count": 9,
     "metadata": {},
     "output_type": "execute_result"
    }
   ],
   "source": [
    "c_train_labels[0]"
   ]
  },
  {
   "cell_type": "code",
   "execution_count": 11,
   "id": "0a4f65ff",
   "metadata": {},
   "outputs": [],
   "source": [
    "f = open(f\"../data/{dataset}-labels/{dataset}_all_labels.txt\", 'r')\n",
    "all_labels = [line.split('\\n')[0] for line in f.readlines()]"
   ]
  },
  {
   "cell_type": "code",
   "execution_count": 14,
   "id": "a79f80dd",
   "metadata": {},
   "outputs": [],
   "source": [
    "from langchain.embeddings.openai import OpenAIEmbeddings\n",
    "from sklearn.metrics.pairwise import cosine_similarity\n",
    "\n",
    "embedding_model_name = 'text-embedding-ada-002'\n",
    "embed = OpenAIEmbeddings(model=embedding_model_name, openai_api_key=OPENAI_API_KEY)"
   ]
  },
  {
   "cell_type": "code",
   "execution_count": 12,
   "id": "ce19b657",
   "metadata": {},
   "outputs": [],
   "source": [
    "# Create label embeddings based on column values random 10\n",
    "label_examples = []\n",
    "for label in all_labels:\n",
    "    #Pick randomly 10 columns from the train set\n",
    "    random_examples=\"\"\n",
    "    for i in range(10):    \n",
    "        index = random.choice([j for j, e in enumerate(c_train_labels) if e == labels_to_text[label]])\n",
    "        random_examples += f\"{c_train_examples[index]} \"\n",
    "    random_examples = random_examples.strip()\n",
    "    label_examples.append(random_examples)"
   ]
  },
  {
   "cell_type": "code",
   "execution_count": 15,
   "id": "323de3fe",
   "metadata": {},
   "outputs": [],
   "source": [
    "label_embeddings = embed.embed_documents(label_examples)"
   ]
  },
  {
   "cell_type": "code",
   "execution_count": 16,
   "id": "1b0615dd",
   "metadata": {},
   "outputs": [],
   "source": [
    "def cosine_sim(oov, labels_embeds):\n",
    "    #Embed oov\n",
    "    oov_embedding = embed.embed_documents([oov])\n",
    "    cos = cosine_similarity(oov_embedding, labels_embeds)\n",
    "    \n",
    "    # Arrange cosine similarity in dictionary\n",
    "    cos_dict = {}\n",
    "    for j, c in enumerate(cos[0]):\n",
    "        cos_dict[j] = c\n",
    "    \n",
    "    # Sort dictionary\n",
    "    sorted_cos_dict = {k: v for k, v in sorted(cos_dict.items(), key=lambda item: item[1])}\n",
    "    \n",
    "    # Retrieve the 10 most similar indices for each test example\n",
    "#     print(sorted_cos_dict[list(sorted_cos_dict.keys())[-1]])\n",
    "    return list(sorted_cos_dict.keys())[-20:] \n",
    "#     return sorted_cos_dict"
   ]
  },
  {
   "cell_type": "code",
   "execution_count": 17,
   "id": "86d75e86",
   "metadata": {},
   "outputs": [],
   "source": [
    "# For most similar, for each oov answer retrieve the most similar label\n",
    "# sim_labels = [cosine_sim(answer, label_embeddings) for answer in oov] # based on oov\n",
    "# sim_labels = [cosine_sim(example, label_embeddings) for example in examples] # based on tables\n",
    "sim_labels = [cosine_sim(example, label_embeddings) for example in c_examples] # based on column"
   ]
  },
  {
   "cell_type": "code",
   "execution_count": 18,
   "id": "ac4451df",
   "metadata": {},
   "outputs": [],
   "source": [
    "sim_labels_lab = [[all_labels[sim] for sim in sims] for sims in sim_labels]"
   ]
  },
  {
   "cell_type": "code",
   "execution_count": 19,
   "id": "4bf2e820",
   "metadata": {},
   "outputs": [
    {
     "data": {
      "text/plain": [
       "1851"
      ]
     },
     "execution_count": 19,
     "metadata": {},
     "output_type": "execute_result"
    }
   ],
   "source": [
    "len(sim_labels_lab)"
   ]
  },
  {
   "cell_type": "code",
   "execution_count": 17,
   "id": "97dcd81a",
   "metadata": {},
   "outputs": [],
   "source": [
    "# included = 0\n",
    "# for i, index in enumerate(oov_indices):\n",
    "#     if labels[index] in sim_labels_lab[i]:\n",
    "#         included += 1"
   ]
  },
  {
   "cell_type": "code",
   "execution_count": 29,
   "id": "fdf9aeb8",
   "metadata": {
    "scrolled": true
   },
   "outputs": [],
   "source": [
    "included = 0\n",
    "for i, index in enumerate(oov_indices):\n",
    "    if labels_to_text[labels[index]] in labels_in_prompt[index]: #oov_table_indices[i]\n",
    "        included += 1\n",
    "#     else:\n",
    "#         print(i)"
   ]
  },
  {
   "cell_type": "code",
   "execution_count": 32,
   "id": "945668d5",
   "metadata": {},
   "outputs": [
    {
     "data": {
      "text/plain": [
       "'product model, duration, fax number, date, telephone, number, identifier, coordinate, energy, postal code'"
      ]
     },
     "execution_count": 32,
     "metadata": {},
     "output_type": "execute_result"
    }
   ],
   "source": [
    "labels_in_prompt[index]"
   ]
  },
  {
   "cell_type": "code",
   "execution_count": 31,
   "id": "402054b4",
   "metadata": {},
   "outputs": [
    {
     "data": {
      "text/plain": [
       "'energy'"
      ]
     },
     "execution_count": 31,
     "metadata": {},
     "output_type": "execute_result"
    }
   ],
   "source": [
    "labels_to_text[labels[index]]"
   ]
  },
  {
   "cell_type": "code",
   "execution_count": 33,
   "id": "c2cc69e3",
   "metadata": {},
   "outputs": [
    {
     "data": {
      "text/plain": [
       "109"
      ]
     },
     "execution_count": 33,
     "metadata": {},
     "output_type": "execute_result"
    }
   ],
   "source": [
    "included"
   ]
  },
  {
   "cell_type": "code",
   "execution_count": 49,
   "id": "64ba43bf",
   "metadata": {},
   "outputs": [
    {
     "data": {
      "text/plain": [
       "True"
      ]
     },
     "execution_count": 49,
     "metadata": {},
     "output_type": "execute_result"
    }
   ],
   "source": [
    "labels_to_text[labels[15]] in labels_in_prompt[oov_table_indices[0]]"
   ]
  },
  {
   "cell_type": "code",
   "execution_count": 48,
   "id": "0726c2c0",
   "metadata": {},
   "outputs": [
    {
     "data": {
      "text/plain": [
       "'category, event status, itemlist, category code, date and time, url, description of event, name of event, sports event, event attendance mode'"
      ]
     },
     "execution_count": 48,
     "metadata": {},
     "output_type": "execute_result"
    }
   ],
   "source": [
    "labels_in_prompt[oov_table_indices[0]]"
   ]
  },
  {
   "cell_type": "code",
   "execution_count": 19,
   "id": "efb9ee6f",
   "metadata": {
    "scrolled": false
   },
   "outputs": [
    {
     "data": {
      "text/plain": [
       "['OfferItemCondition',\n",
       " 'price',\n",
       " 'CategoryCode',\n",
       " 'openingHours',\n",
       " 'Event/name',\n",
       " 'currency',\n",
       " 'email',\n",
       " 'Number',\n",
       " 'workHours',\n",
       " 'telephone',\n",
       " 'IdentifierAT',\n",
       " 'Distance',\n",
       " 'CoordinateAT',\n",
       " 'ItemList',\n",
       " 'Duration',\n",
       " 'DayOfWeek',\n",
       " 'URL',\n",
       " 'Time',\n",
       " 'DateTime',\n",
       " 'Date']"
      ]
     },
     "execution_count": 19,
     "metadata": {},
     "output_type": "execute_result"
    }
   ],
   "source": [
    "sim_labels_lab[0]"
   ]
  },
  {
   "cell_type": "code",
   "execution_count": 21,
   "id": "69f6e6f0",
   "metadata": {},
   "outputs": [],
   "source": [
    "# All labels: labels_joined\n",
    "# labels_in_prompt = labels_joined\n",
    "labels_in_prompt = [\", \".join([labels_to_text[all_labels[sim]] for sim in sims[-10:]]) for sims in sim_labels] #10 similar\n",
    "# labels_in_prompt = [\", \".join([labels_to_text[all_labels[sim]] for sim in sims[-5:]]) for sims in sim_labels] #5 similar"
   ]
  },
  {
   "cell_type": "code",
   "execution_count": 87,
   "id": "49ea2a54",
   "metadata": {},
   "outputs": [
    {
     "name": "stderr",
     "output_type": "stream",
     "text": [
      "100%|█████████████████████████████████████████████████████████████████████████████████| 185/185 [01:09<00:00,  2.66it/s]\n"
     ]
    }
   ],
   "source": [
    "# Re-mapping via prompting LLM\n",
    "remap = []\n",
    "\n",
    "for i, answer in tqdm.tqdm(enumerate(oov), total=len(oov)):\n",
    "    messages = []\n",
    "#     messages.append(HumanMessage(content=f\"Choose one term to map to the term '{answer}'. Choose one of the following: {labels_joined}.\"))\n",
    "#     messages.append(HumanMessage(content=f\"Choose one term to map to the term '{answer}'. Choose one of the following: {labels_in_prompt[i]}.\"))\n",
    "\n",
    "#     messages.append(HumanMessage(content=f\"Choose one term to map to the input values '{c_examples[oov_indices[i]]}' and the term '{answer}'. Choose one of the following: {labels_joined}.\"))\n",
    "    messages.append(HumanMessage(content=f\"Choose one term to map to the input values '{c_examples[oov_indices[i]]}' and the term '{answer}'. Choose one of the following: {labels_in_prompt[i]}.\"))\n",
    "\n",
    "    res = chat(messages)\n",
    "    remap.append(res.content)\n",
    "save_pickle_file(f\"icde-predictions/{dataset}/{model_name}/chat-table-zero-shot-remap-col5.pkl\", remap)"
   ]
  },
  {
   "cell_type": "code",
   "execution_count": null,
   "id": "33dafe65",
   "metadata": {},
   "outputs": [],
   "source": [
    "oov, oov_table_indices, oov_tablecolumn_indices"
   ]
  },
  {
   "cell_type": "code",
   "execution_count": 19,
   "id": "a149f137",
   "metadata": {},
   "outputs": [
    {
     "data": {
      "text/plain": [
       "6"
      ]
     },
     "execution_count": 19,
     "metadata": {},
     "output_type": "execute_result"
    }
   ],
   "source": [
    "oov_table_indices[0]"
   ]
  },
  {
   "cell_type": "code",
   "execution_count": 20,
   "id": "96342e25",
   "metadata": {},
   "outputs": [
    {
     "data": {
      "text/plain": [
       "3"
      ]
     },
     "execution_count": 20,
     "metadata": {},
     "output_type": "execute_result"
    }
   ],
   "source": [
    "oov_tablecolumn_indices[0]"
   ]
  },
  {
   "cell_type": "code",
   "execution_count": 22,
   "id": "c8a3293f",
   "metadata": {},
   "outputs": [
    {
     "data": {
      "text/plain": [
       "15"
      ]
     },
     "execution_count": 22,
     "metadata": {},
     "output_type": "execute_result"
    }
   ],
   "source": [
    "oov_indices[0]"
   ]
  },
  {
   "cell_type": "code",
   "execution_count": 23,
   "id": "8d8c820c",
   "metadata": {},
   "outputs": [
    {
     "data": {
      "text/plain": [
       "'EventStatusType'"
      ]
     },
     "execution_count": 23,
     "metadata": {},
     "output_type": "execute_result"
    }
   ],
   "source": [
    "labels[15]"
   ]
  },
  {
   "cell_type": "code",
   "execution_count": 73,
   "id": "3fe20702",
   "metadata": {},
   "outputs": [
    {
     "name": "stderr",
     "output_type": "stream",
     "text": [
      "100%|█████████████████████████████████████████████████████████████████████████████████| 185/185 [01:23<00:00,  2.21it/s]\n"
     ]
    }
   ],
   "source": [
    "# Re-mapping via prompting LLM\n",
    "remap = []\n",
    "\n",
    "for i, answer in tqdm.tqdm(enumerate(oov), total=len(oov)):\n",
    "    messages = []\n",
    "#     messages.append(HumanMessage(content=f\"Choose one term to map to the term '{answer}'. Choose one of the following: {labels_joined}.\"))\n",
    "#     messages.append(HumanMessage(content=f\"Choose one term to map to the term '{answer}'. Choose one of the following: {labels_in_prompt[i]}.\"))\n",
    "\n",
    "#     messages.append(HumanMessage(content=f\"Choose one term to map to the input values '{c_examples[oov_indices[i]]}' and the term '{answer}'. Choose one of the following: {labels_joined}.\"))\n",
    "#     messages.append(HumanMessage(content=f\"Choose one term to map to the input values '{c_examples[oov_indices[i]]}' and the term '{answer}'. Choose one of the following: {labels_in_prompt[i]}.\"))\n",
    "    messages.append(SystemMessage(content=f\"You are a world-class data engineer and your task is to annotate the columns of a given table with only one of the following labels that are separated with comma: {labels_in_prompt[oov_table_indices[i]]}.\"))\n",
    "    messages.append(SystemMessage(content=\"Your instructions are: 1. Look at the input given to you and make a table out of it. 2. Look at the cell values in detail. 3. For each column, select a label that best represents the meaning of all cells in the column. 4. Answer with the selected label for each column using the format Column1: label. 5. Answer only with labels from the provided label set!\"))\n",
    "    messages.append(HumanMessage(content=f\"Classify Column {oov_tablecolumn_indices[i]+1}: {examples[oov_table_indices[i]]}\"))\n",
    "    res = chat(messages)\n",
    "    remap.append(res.content)\n",
    "save_pickle_file(f\"icde-predictions/{dataset}/{model_name}/chat-table-zero-shot-v2-remap-tablecol10.pkl\", remap)"
   ]
  },
  {
   "cell_type": "code",
   "execution_count": 75,
   "id": "54e1b144",
   "metadata": {},
   "outputs": [
    {
     "data": {
      "text/plain": [
       "[SystemMessage(content='You are a world-class data engineer and your task is to annotate the columns of a given table with only one of the following labels that are separated with comma: description of event, educational credential, product model, weight, review, description of product, description of recipe, name of recipe, quantitative value, itemlist.', additional_kwargs={}),\n",
       " SystemMessage(content='Your instructions are: 1. Look at the input given to you and make a table out of it. 2. Look at the cell values in detail. 3. For each column, select a label that best represents the meaning of all cells in the column. 4. Answer with the selected label for each column using the format Column1: label. 5. Answer only with labels from the provided label set!', additional_kwargs={}),\n",
       " HumanMessage(content='Classify Column 2: Column 1 || Column 2 || \\nPreheat oven to 350F/180C. Generously grease and flour a 10-inch fluted/bundt pan and set aside. Remove the pan from the ||  ||\\nIn a medium size bowl combine together the ingredients mentioned in Part 2. Preheat oven at 375F/190C for 15 minutes. || 73.1 ||\\nGrease 8-inch square baking pan or line with foil. Remove from heat and stir in vanilla. Stir in 2 cups ||  ||\\nIn a large bowl, whisk together the dry ingredients. Fill the cupcake liners about tow-thirds full with batter. Bake for ||  ||\\nBake until a toothpick inserted in the center comes out clean, 20-25 minutes. Mine was done around the 21st minute ||  ||\\n', additional_kwargs={}, example=False)]"
      ]
     },
     "execution_count": 75,
     "metadata": {},
     "output_type": "execute_result"
    }
   ],
   "source": [
    "messages"
   ]
  },
  {
   "cell_type": "code",
   "execution_count": 74,
   "id": "82f58b03",
   "metadata": {},
   "outputs": [
    {
     "data": {
      "text/plain": [
       "AIMessage(content='Column 1: Description of recipe, Column 2: Quantitative value.', additional_kwargs={}, example=False)"
      ]
     },
     "execution_count": 74,
     "metadata": {},
     "output_type": "execute_result"
    }
   ],
   "source": [
    "res"
   ]
  },
  {
   "cell_type": "code",
   "execution_count": 35,
   "id": "1dc15dc7",
   "metadata": {},
   "outputs": [
    {
     "data": {
      "text/plain": [
       "['Column 4: url',\n",
       " 'Column 2: name of place',\n",
       " 'Column 1: name of music album',\n",
       " 'Column 2: name of person',\n",
       " 'Column 4: item availability',\n",
       " 'Column 4: item availability',\n",
       " 'Column 1: locality of address\\nColumn 2: date and time\\nColumn 3: locality of address',\n",
       " 'Column 1: locality of address, Column 2: date and time, Column 3: locality of address.',\n",
       " 'Column 1: language',\n",
       " 'Column 2: language',\n",
       " 'Column 1: category\\nColumn 2: job posting description\\nColumn 3: identifier\\nColumn 4: identifier\\nColumn 5: category',\n",
       " 'Column 8: Description of hotel.',\n",
       " 'Column 4: description of hotel.',\n",
       " 'Column 5: Description of hotel.',\n",
       " 'Column 9: Description of hotel.',\n",
       " 'Column 10: description of hotel.',\n",
       " 'Column 1: Name of rental property\\nColumn 2: N/A\\nColumn 3: N/A\\nColumn 4: N/A\\nColumn 5: Street address\\nColumn 6: Location feature (city)\\nColumn 7: Country\\nColumn 8: Name of rental property\\nColumn 9: N/A\\nColumn 10: N/A\\nColumn 11: Amenities\\nColumn 12: Amenities',\n",
       " 'Column 1: Name of hotel\\nColumn 2: Description of hotel\\nColumn 3: Not applicable\\nColumn 4: Not applicable\\nColumn 5: Street address\\nColumn 6: Location feature\\nColumn 7: Country\\nColumn 8: Name of hotel\\nColumn 9: Not applicable\\nColumn 10: Not applicable\\nColumn 11: Amenities\\nColumn 12: Amenities',\n",
       " 'Column 3: Name of hotel.',\n",
       " 'Column 5: Description of hotel.',\n",
       " 'Column 7: Description of hotel.',\n",
       " 'Column 8: Description of hotel.',\n",
       " 'Column 9: Description of hotel.',\n",
       " 'Column 10: name of hotel',\n",
       " 'Column 11: description of hotel.',\n",
       " 'Column 12: description of hotel.',\n",
       " 'Column 3: description of hotel.',\n",
       " 'Column 6: Room Type',\n",
       " 'Column 1: Job posting description\\nColumn 2: Price\\nColumn 3: Job posting',\n",
       " 'Column 2: price, job posting, job posting, price, job posting',\n",
       " 'Column 3: job posting description.',\n",
       " 'Column 1: Job Posting || Column 2: Employer || Column 3: Job Category || Column 4: Price Range',\n",
       " 'Column 2: job posting',\n",
       " 'Column 3: job posting description.',\n",
       " 'Column 4: job posting description.',\n",
       " 'Column 1: itemlist',\n",
       " 'Column 2: energy',\n",
       " 'Column 3: name of recipe.',\n",
       " 'Column 4: Description of book.',\n",
       " 'Column 1: category code',\n",
       " 'Column 1: category code\\nColumn 2: postal address\\nColumn 3: date and time\\nColumn 4: postal address\\nColumn 5: telephone\\nColumn 6: email\\nColumn 7: category code',\n",
       " 'Column 2: URL',\n",
       " 'Column 3: URL',\n",
       " 'Column 4: URL',\n",
       " 'Column 5: URL',\n",
       " 'Column 7: url',\n",
       " 'Column 8: URL',\n",
       " 'Column 4: name of movie.',\n",
       " 'Column 4: name of movie.',\n",
       " 'Column 5: name of movie',\n",
       " 'Column 3: Name of Movie.',\n",
       " 'Column 2: name of person.',\n",
       " 'Column 4: name of person',\n",
       " 'Column 4: url',\n",
       " 'Column 2: mass',\n",
       " 'Column 3: mass',\n",
       " 'Column 2: telephone',\n",
       " 'Column 1: category code.',\n",
       " 'Column 2: Telephone',\n",
       " 'Column 1: Sports team.',\n",
       " 'Column 5: location feature',\n",
       " 'Column 1: organization',\n",
       " 'Column 4: Description of product.',\n",
       " 'Column 5: Description of product.',\n",
       " 'Column 1: Company/Service Name\\nColumn 2: Price\\nColumn 3: Postal Code\\nColumn 4: Region of Address\\nColumn 5: Street Address\\nColumn 6: Region of Address\\nColumn 7: Day of Week',\n",
       " 'Column 2: mass',\n",
       " 'Column 3: mass',\n",
       " 'Column 2: date',\n",
       " 'Column 1: mass',\n",
       " 'Column 1: mass',\n",
       " 'Column 1: height',\n",
       " 'Column 2: itemlist',\n",
       " 'Column 1: Number\\nColumn 2: unit text\\nColumn 3: unit text\\nColumn 4: mass\\nColumn 5: mass\\nColumn 6: mass\\nColumn 7: mass\\nColumn 8: energy',\n",
       " 'Column 1: height',\n",
       " 'Column 1: Description of book.',\n",
       " 'Column 1: Name of recipe',\n",
       " 'Column 2: name of recipe.',\n",
       " 'Column 3: item condition',\n",
       " 'Column 4: name of recipe.',\n",
       " 'Column 3: event attendance mode',\n",
       " 'Column 2: name of movie.',\n",
       " 'Column 1: Name of book',\n",
       " 'Column 1: Creative work series\\nColumn 2: Creative work\\nColumn 3: Identifier\\nColumn 4: Brand\\nColumn 5: Time\\nColumn 6: Quantitative value',\n",
       " 'Column 1: creative work series',\n",
       " 'Column 4: description of hotel.',\n",
       " 'Column 2: name of hotel.',\n",
       " 'Column 2: Day of week',\n",
       " 'Column 1: Work Hours\\nColumn 2: Job Experience Requirements\\nColumn 3: Educational Credential\\nColumn 4: Job Posting\\nColumn 5: Job Posting Description\\nColumn 6: Not applicable\\nColumn 7: Job Field/Category',\n",
       " 'Column 1: Work Hours\\nColumn 2: Job Experience Requirements\\nColumn 3: Educational Credential\\nColumn 4: Company Name\\nColumn 5: Job Posting Description\\nColumn 6: Not Applicable\\nColumn 7: Job Field/Industry',\n",
       " 'Column 1: Work Hours\\nColumn 2: Job Experience Requirements\\nColumn 3: Educational Credential\\nColumn 4: Company Name\\nColumn 5: Job Posting\\nColumn 6: Not Disclosed\\nColumn 7: Job Field',\n",
       " 'Column 7: Experience Requirements',\n",
       " 'Column 3: name of music recording.',\n",
       " 'Column 2: name of music recording.',\n",
       " 'Column 1: Name of Recipe',\n",
       " 'Column 2: Description of Recipe.',\n",
       " 'Column 4: itemlist',\n",
       " 'Column 1: Description of recipe.',\n",
       " 'Column 2: name of recipe.',\n",
       " 'Column 1: itemlist',\n",
       " 'Column 1: Description of recipe, Column 2: Time, Column 3: Dietary restriction, Column 4: Instructions',\n",
       " 'Column 3: description of recipe.',\n",
       " 'Column 4: description of recipe.',\n",
       " 'Column 3: opening hours.',\n",
       " 'Column 2: name of restaurant.',\n",
       " 'Column 3: telephone',\n",
       " 'Column 2: Sports Team.',\n",
       " 'Column 3: sports team.',\n",
       " 'Column 2: name of tv episode.',\n",
       " 'Column 2: Creative work series.',\n",
       " 'Column 2: Name of TV Episode.',\n",
       " 'Column 2: Name of TV Episode.',\n",
       " 'Column 2: Name of TV episode.',\n",
       " 'Column 2: Name of TV Episode.',\n",
       " 'Column 2: name of tv episode.',\n",
       " 'Column 3: description of book.',\n",
       " 'Column 1: identifier, Column 2: name of book, Column 3: book format.',\n",
       " 'Column 3: event attendance mode',\n",
       " 'Column 1: Name of product, Column 2: Name of product, Column 3: Category.',\n",
       " 'Column 2: product model',\n",
       " 'Column 3: item condition',\n",
       " 'Column 1: url',\n",
       " 'Column 1: date, Column 2: name of event, Column 3: telephone, Column 4: category code, Column 5: opening hours, Column 6: sports event, Column 7: email, Column 8: url.',\n",
       " 'Column 1: Description of product',\n",
       " 'Column 1: photograph',\n",
       " 'Column 1: name of person',\n",
       " 'Column 1: itemlist',\n",
       " 'Column 1: Name of product\\nColumn 2: Creative work series\\nColumn 3: URL\\nColumn 4: Price\\nColumn 5: Currency',\n",
       " 'Column 2: Name of Event.',\n",
       " 'Column 1: review',\n",
       " 'Column 2: review',\n",
       " 'Column 6: description of hotel.',\n",
       " 'Column 2: Price Range.',\n",
       " 'Column 1: job posting description',\n",
       " 'Column 3: job posting description.',\n",
       " 'Column 4: job posting description.',\n",
       " 'Column 1: job posting description<br />\\nColumn 2: job posting<br />\\nColumn 3: experience requirements<br />\\nColumn 4: category code',\n",
       " 'Column 2: job posting description.',\n",
       " 'Column 3: job posting description.',\n",
       " 'Column 4: category code',\n",
       " 'Column 1: Local Business\\nColumn 2: Experience Requirements\\nColumn 3: Job Posting Description',\n",
       " 'Column 2: Experience requirements.',\n",
       " 'Column 3: Experience requirements.',\n",
       " 'Column 2: job posting description.',\n",
       " 'Column 3: job posting description.',\n",
       " 'Column 1: experience requirements, Column 2: experience requirements, Column 3: description of product, Column 4: job posting description, Column 5: organization, Column 6: job posting',\n",
       " 'Column 4: job posting description',\n",
       " 'Column 1: Work Hours.',\n",
       " 'Column 2: work hours.',\n",
       " 'Column 1: Job posting description </br>\\nColumn 2: Work hours </br>\\nColumn 3: Experience requirements',\n",
       " 'Column 2: Job Posting Description',\n",
       " 'Column 3: work hours.',\n",
       " 'Column 1: Job posting description\\nColumn 2: Work hours\\nColumn 3: Organization\\nColumn 4: Country\\nColumn 5: Job posting',\n",
       " 'Column 1: Job Posting Description\\nColumn 2: Work Hours\\nColumn 3: Organization\\nColumn 4: Country\\nColumn 5: Job Posting',\n",
       " 'Column 1: Job posting description\\nColumn 2: Work hours\\nColumn 3: Organization\\nColumn 4: Job posting\\nColumn 5: Telephone',\n",
       " 'Column 5: job posting',\n",
       " 'Column 2: Job Posting Description',\n",
       " 'Column 1: Job Posting Description',\n",
       " 'Column 1: Music Artist',\n",
       " 'Column 1: category',\n",
       " 'Column 2: job posting description.',\n",
       " 'Column 1: Work Hours\\nColumn 2: Experience Requirements\\nColumn 3: Education Requirements\\nColumn 4: Experience Requirements',\n",
       " 'Column 1: Work Hours\\nColumn 2: Experience Requirements\\nColumn 3: Experience Requirements\\nColumn 4: Experience Requirements',\n",
       " 'Column 1: job posting.',\n",
       " 'Column 1: Name of Recipe, Column 2: Name of Recipe, Column 3: Duration, Column 4: Description of Recipe.',\n",
       " 'Column 1: name of recipe, Column 2: description of recipe, Column 3: duration, Column 4: serving size',\n",
       " 'Column 1: Name of Recipe. \\nColumn 2: Duration. \\nColumn 3: Description of Recipe. \\nColumn 4: Description of Recipe.',\n",
       " 'Column 5: description of recipe.',\n",
       " 'Column 3: name of recipe.',\n",
       " 'Column 2: Description of recipe.',\n",
       " 'Column 3: name of recipe.',\n",
       " 'Column 6: description of recipe.',\n",
       " 'Column 2: Creative work series.',\n",
       " 'Column 2: Name of TV episode.',\n",
       " 'Column 2: name of tv episode.',\n",
       " 'Column 1: date',\n",
       " 'Column 1: Description of event\\nColumn 2: EventScheduled\\nColumn 3: OfflineEventAttendanceMode\\nColumn 4: Opening hours',\n",
       " 'Column 2: description of event',\n",
       " 'Column 1: Category Code',\n",
       " 'Column 1: Identifier',\n",
       " 'Column 1: local business\\nColumn 2: region of address\\nColumn 3: postal code\\nColumn 4: street address',\n",
       " 'Column 1: locality of address\\nColumn 2: region of address\\nColumn 3: postal code\\nColumn 4: street address',\n",
       " 'Column 6: weight',\n",
       " 'Column 10: weight',\n",
       " 'Column 2: Material',\n",
       " 'Column 2: Time']"
      ]
     },
     "execution_count": 35,
     "metadata": {},
     "output_type": "execute_result"
    }
   ],
   "source": [
    "remap"
   ]
  },
  {
   "cell_type": "code",
   "execution_count": 76,
   "id": "0a56686c",
   "metadata": {},
   "outputs": [],
   "source": [
    "remaped_preds, num_remaped = map_answers_column(remap, test, text_to_label, labels_to_text)"
   ]
  },
  {
   "cell_type": "code",
   "execution_count": 77,
   "id": "f77983a9",
   "metadata": {},
   "outputs": [
    {
     "data": {
      "text/plain": [
       "['EventAttendanceModeEnumeration',\n",
       " 'Place/name',\n",
       " 'CreativeWork',\n",
       " 'Person/name',\n",
       " 'ItemAvailability',\n",
       " 'ItemAvailability',\n",
       " 'Event/description',\n",
       " 'Event/description',\n",
       " 'Product/description',\n",
       " 'Product/description',\n",
       " 'category',\n",
       " 'Hotel/description',\n",
       " 'Hotel/description',\n",
       " 'Hotel/description',\n",
       " 'Hotel/description',\n",
       " '-',\n",
       " 'Hotel/name',\n",
       " 'Hotel/name',\n",
       " 'Hotel/description',\n",
       " 'Hotel/description',\n",
       " 'Hotel/description',\n",
       " 'Hotel/description',\n",
       " 'Hotel/description',\n",
       " 'Hotel/description',\n",
       " 'Hotel/description',\n",
       " 'Hotel/description',\n",
       " 'Hotel/description',\n",
       " '-',\n",
       " 'JobPosting/name',\n",
       " 'MonetaryAmount',\n",
       " 'JobPosting/name',\n",
       " 'JobPosting/name',\n",
       " 'JobPosting/name',\n",
       " 'JobPosting/name',\n",
       " 'JobPosting/name',\n",
       " 'Energy',\n",
       " 'Energy',\n",
       " 'Recipe/description',\n",
       " 'Book/description',\n",
       " 'Product/description',\n",
       " 'ItemAvailability',\n",
       " 'URL',\n",
       " 'URL',\n",
       " 'URL',\n",
       " 'URL',\n",
       " 'Product/description',\n",
       " 'URL',\n",
       " 'Movie/name',\n",
       " 'Movie/name',\n",
       " 'Movie/name',\n",
       " 'Movie/name',\n",
       " 'Person/name',\n",
       " 'Person/name',\n",
       " 'Photograph',\n",
       " 'Mass',\n",
       " 'Mass',\n",
       " 'telephone',\n",
       " 'IdentifierAT',\n",
       " 'telephone',\n",
       " 'Person/name',\n",
       " 'Hotel/description',\n",
       " 'CreativeWork',\n",
       " 'Product/description',\n",
       " 'Product/description',\n",
       " 'LocalBusiness/name',\n",
       " 'weight',\n",
       " 'Mass',\n",
       " 'Date',\n",
       " '-',\n",
       " '-',\n",
       " '-',\n",
       " 'CreativeWork',\n",
       " 'QuantitativeValue',\n",
       " '-',\n",
       " 'Book/name',\n",
       " 'CreativeWork',\n",
       " 'CreativeWork',\n",
       " 'ItemList',\n",
       " 'Event/description',\n",
       " 'EventAttendanceModeEnumeration',\n",
       " 'CreativeWork',\n",
       " 'CreativeWork',\n",
       " '-',\n",
       " 'Event/description',\n",
       " 'LocationFeatureSpecification',\n",
       " 'Restaurant/name',\n",
       " 'JobPosting/name',\n",
       " 'OccupationalExperienceRequirements',\n",
       " 'workHours',\n",
       " 'workHours',\n",
       " 'JobPosting/name',\n",
       " 'MusicRecording/name',\n",
       " 'MusicRecording/name',\n",
       " 'Recipe/description',\n",
       " 'Recipe/description',\n",
       " 'Recipe/description',\n",
       " 'Recipe/description',\n",
       " 'RestrictedDiet',\n",
       " 'QuantitativeValue',\n",
       " 'Recipe/description',\n",
       " 'Recipe/description',\n",
       " 'Recipe/description',\n",
       " 'openingHours',\n",
       " '-',\n",
       " 'telephone',\n",
       " 'SportsTeam',\n",
       " 'SportsTeam',\n",
       " 'TVEpisode/name',\n",
       " 'TVEpisode/name',\n",
       " 'TVEpisode/name',\n",
       " 'TVEpisode/name',\n",
       " 'CreativeWork',\n",
       " 'TVEpisode/name',\n",
       " 'TVEpisode/name',\n",
       " 'Book/description',\n",
       " 'Book/name',\n",
       " 'EventAttendanceModeEnumeration',\n",
       " 'Product/name',\n",
       " 'IdentifierAT',\n",
       " 'IdentifierAT',\n",
       " 'URL',\n",
       " 'Event/name',\n",
       " 'Product/description',\n",
       " 'Photograph',\n",
       " 'Person/name',\n",
       " 'Product/description',\n",
       " 'ProductModel',\n",
       " 'Event/name',\n",
       " '-',\n",
       " '-',\n",
       " 'LocationFeatureSpecification',\n",
       " 'price',\n",
       " 'JobPosting/name',\n",
       " 'JobPosting/name',\n",
       " 'JobPosting/name',\n",
       " 'JobPosting/name',\n",
       " 'JobPosting/name',\n",
       " 'JobPosting/name',\n",
       " 'JobPosting/name',\n",
       " 'JobPosting/name',\n",
       " 'JobPosting/name',\n",
       " 'JobPosting/name',\n",
       " 'JobPosting/name',\n",
       " 'JobPosting/name',\n",
       " 'OccupationalExperienceRequirements',\n",
       " 'JobPosting/name',\n",
       " '-',\n",
       " 'workHours',\n",
       " 'JobPosting/name',\n",
       " 'JobPosting/name',\n",
       " 'workHours',\n",
       " 'JobPosting/name',\n",
       " 'JobPosting/name',\n",
       " 'OccupationalExperienceRequirements',\n",
       " 'IdentifierAT',\n",
       " 'JobPosting/name',\n",
       " 'JobPosting/name',\n",
       " 'CategoryCode',\n",
       " 'OccupationalExperienceRequirements',\n",
       " 'JobPosting/name',\n",
       " 'workHours',\n",
       " 'EducationalOccupationalCredential',\n",
       " '-',\n",
       " 'Recipe/description',\n",
       " 'Duration',\n",
       " 'CreativeWork',\n",
       " 'Recipe/description',\n",
       " 'QuantitativeValue',\n",
       " 'Recipe/name',\n",
       " 'Recipe/name',\n",
       " 'Recipe/description',\n",
       " 'CreativeWork',\n",
       " 'CreativeWork',\n",
       " 'TVEpisode/name',\n",
       " 'EventStatusType',\n",
       " 'Event/description',\n",
       " 'CreativeWork',\n",
       " 'CreativeWork',\n",
       " 'LocalBusiness/name',\n",
       " 'CreativeWork',\n",
       " 'CreativeWork',\n",
       " 'Brand',\n",
       " 'Brand',\n",
       " 'Product/description',\n",
       " 'Recipe/description']"
      ]
     },
     "execution_count": 77,
     "metadata": {},
     "output_type": "execute_result"
    }
   ],
   "source": [
    "remaped_preds"
   ]
  },
  {
   "cell_type": "code",
   "execution_count": 78,
   "id": "93e84ba5",
   "metadata": {},
   "outputs": [],
   "source": [
    "# Replace the re-mapped with the new predictions\n",
    "for i, index in enumerate(oov_indices):\n",
    "    predictions[index] = remaped_preds[i]"
   ]
  },
  {
   "cell_type": "code",
   "execution_count": 79,
   "id": "7cd60cb6",
   "metadata": {},
   "outputs": [
    {
     "name": "stdout",
     "output_type": "stream",
     "text": [
      "65.08\t60.63\t58.71\t65.47\t12\n"
     ]
    },
    {
     "name": "stderr",
     "output_type": "stream",
     "text": [
      "/ceph/kkorini/LLM/TabAnnGPT/utils.py:180: RuntimeWarning: invalid value encountered in double_scalars\n",
      "  f1 = 2*precision*recall / (precision + recall)\n",
      "/ceph/kkorini/LLM/TabAnnGPT/utils.py:178: RuntimeWarning: invalid value encountered in double_scalars\n",
      "  precision = report[j]['TP'] / (report[j]['TP'] + report[j]['FP'])\n",
      "/ceph/kkorini/LLM/TabAnnGPT/utils.py:179: RuntimeWarning: invalid value encountered in double_scalars\n",
      "  recall = report[j]['TP'] / (report[j]['TP'] + report[j]['FN'])\n"
     ]
    }
   ],
   "source": [
    "# Evaluate again\n",
    "types = list(set(labels))\n",
    "types = types + [\"-\"] if '-' in predictions else types\n",
    "evaluation, per_class_eval = calculate_f1_scores(labels, predictions, len(types), types)\n",
    "print(f\"{decimal(evaluation['Precision'])}\\t{decimal(evaluation['Recall'])}\\t{decimal(evaluation['Macro-F1'])}\\t{decimal(evaluation['Micro-F1'])}\\t{num_remaped}\")"
   ]
  },
  {
   "cell_type": "code",
   "execution_count": 99,
   "id": "5978dd70",
   "metadata": {},
   "outputs": [],
   "source": [
    "# ex = [1,\n",
    "# 4,\n",
    "# 9,\n",
    "# 10,\n",
    "# 13,\n",
    "# 14,\n",
    "# 15,\n",
    "# 18,\n",
    "# 19,\n",
    "# 20]\n",
    "ex = [22,\n",
    "23,\n",
    "24,\n",
    "32,\n",
    "35, 36, 38, 39,\n",
    "42,\n",
    "43,\n",
    "44,\n",
    "45,\n",
    "47,\n",
    "50,\n",
    "51,\n",
    "52,\n",
    "53,\n",
    "57,\n",
    "75,\n",
    "76,\n",
    "77,\n",
    "78,\n",
    "79,\n",
    "80,\n",
    "102,\n",
    "103,\n",
    "104,\n",
    "115,\n",
    "121,\n",
    "122,\n",
    "125,\n",
    "126,\n",
    "127,\n",
    "140,\n",
    "141,\n",
    "153,\n",
    "171,\n",
    "180,\n",
    "184,\n",
    "]"
   ]
  },
  {
   "cell_type": "code",
   "execution_count": 100,
   "id": "7d4f3256",
   "metadata": {},
   "outputs": [
    {
     "name": "stdout",
     "output_type": "stream",
     "text": [
      "Classify Column 9\n",
      "Column 1 || Column 2 || Column 3 || Column 4 || Column 5 || Column 6 || Column 7 || Column 8 || Column 9 || Column 10 || Column 11 || Column 12 || \n",
      "|| Better Together: Playa San Luis Pool, Gulf View, Gorgeous! Free Activities ||  ||  ||  ||  ||  ||  ||  ||  ||  || A/C Balcony / Patio Hairdryer Non-smoking rooms Pool Kitchen / Kitchenette WiFi Parking TV / Entertainment Washing machine ||\n",
      "Set in the centre of Letchworth Garden City, The Broadway Hotel is a thirty-five room property that features complimentary Wi-Fi || The Broadway ||  ||  || SG6 3NZ || Letchworth Garden City || United Kingdom || The Broadway ||  ||  ||  || A/C Restaurant Spa Pets Pool Free WiFi in rooms Hotel bar Parking Gym Free WiFi in lobby ||\n",
      "|| Casa Costa Azul ||  ||  ||  ||  ||  ||  ||  ||  ||  || A/C Balcony / Patio Hairdryer Non-smoking rooms Kitchen / Kitchenette Parking WiFi TV / Entertainment Pool Washing machine ||\n",
      "|| OYO 28023 Shubham Farms ||  ||  ||  ||  ||  ||  ||  ||  ||  || A/C Balcony / Patio Non-smoking rooms Kitchen / Kitchenette Pool WiFi TV / Entertainment Hairdryer Parking Washing machine ||\n",
      "|| Brentwood Modernist Guesthouse ||  ||  ||  ||  ||  ||  ||  ||  ||  || A/C Balcony / Patio Non-smoking rooms Pool Kitchen / Kitchenette Parking WiFi TV / Entertainment Hairdryer Washing machine ||\n",
      "\n",
      "Correct label: Time\n",
      "Values used to represent this label: 2020-10-02T06:30:00+05:30 2020-09-21T12:30:00+04:00 2020-10-02T08:30:00+05:30 2020-10-01T07:00:00+05:30 2020-10-02T12:00:00+05:30 05:00pm Closed 05:00pm 05:00pm 11:00am 05:00pm 05:00pm 17:00 17:00 17:00 17:00 PT35M PT20M PT18M PT40M PT6M false false false false false PT1H43M PT10M PT20M PT8M PT12M 08:00 08:00 08:00 08:00 08:00 08:00 08:00 07:00 07:00 07:00 07:00 07:00 07:00 07:00 07:00 07:00 07:00 07:00 07:00 07:00 07:00 08:00 08:00 08:00 08:00 08:00 08:00 08:00 08:00 08:00 08:00 08:00 08:00 08:00 08:00 14:00 22:00 22:00 19:00 14:00 14:00 22:00 22:00 22:00 15:30 14:00 14:00 22:00 22:00 19:00 14:00 14:00 22:00 22:00 22:00 15:30 14:00 14:00 22:00 22:00 19:00 14:00 14:00 22:00 22:00 22:00 15:30 14:00 14:00 22:00 22:00 19:00 14:00 14:00 22:00 22:00 22:00 15:30 14:00 14:00 22:00 22:00 19:00 14:00 14:00 22:00 22:00 22:00 15:30 14:00 PT20M PT15M PT30M PT10M PT30M 17:00 17:00 17:00 17:00 17:00 PT10M PT37M PT2H40M PT37M PT30M\n",
      "Candidate labels: day of week, email, locality of address, name of tv episode, language, postal address, name of hotel, photograph, description of hotel, location feature\n",
      "Classify Column 10\n",
      "Column 1 || Column 2 || Column 3 || Column 4 || Column 5 || Column 6 || Column 7 || Column 8 || Column 9 || Column 10 || Column 11 || Column 12 || \n",
      "|| Better Together: Playa San Luis Pool, Gulf View, Gorgeous! Free Activities ||  ||  ||  ||  ||  ||  ||  ||  ||  || A/C Balcony / Patio Hairdryer Non-smoking rooms Pool Kitchen / Kitchenette WiFi Parking TV / Entertainment Washing machine ||\n",
      "Set in the centre of Letchworth Garden City, The Broadway Hotel is a thirty-five room property that features complimentary Wi-Fi || The Broadway ||  ||  || SG6 3NZ || Letchworth Garden City || United Kingdom || The Broadway ||  ||  ||  || A/C Restaurant Spa Pets Pool Free WiFi in rooms Hotel bar Parking Gym Free WiFi in lobby ||\n",
      "|| Casa Costa Azul ||  ||  ||  ||  ||  ||  ||  ||  ||  || A/C Balcony / Patio Hairdryer Non-smoking rooms Kitchen / Kitchenette Parking WiFi TV / Entertainment Pool Washing machine ||\n",
      "|| OYO 28023 Shubham Farms ||  ||  ||  ||  ||  ||  ||  ||  ||  || A/C Balcony / Patio Non-smoking rooms Kitchen / Kitchenette Pool WiFi TV / Entertainment Hairdryer Parking Washing machine ||\n",
      "|| Brentwood Modernist Guesthouse ||  ||  ||  ||  ||  ||  ||  ||  ||  || A/C Balcony / Patio Non-smoking rooms Pool Kitchen / Kitchenette Parking WiFi TV / Entertainment Hairdryer Washing machine ||\n",
      "\n",
      "Correct label: CoordinateAT\n",
      "Values used to represent this label: 52.3797122353 52.351635876 52.562855 52.382365 52.3351555484 153.229 149.125 147.126 141.14 152.252 34.2805221 34.279327 34.280819 34.2797184 34.2807121 33.895034 33.89202 33.273613 33.888017 33.900187 26.0367561 24.9475621 25.5485349 23.0274848 25.296844 -95.712891 -95.712891 -95.712891 -95.712891 -95.712891 -80.2286459 -79.3120517 -81.6402308 -80.3597626 -79.3390044 38.4021359 38.4052945 38.4039234 38.4041832 38.4079617 36.0407976 35.952867 36.1115355 36.0380783 36.336473 147.329 152.934 115.625 152.252 151.549\n",
      "Candidate labels: day of week, email, locality of address, name of tv episode, language, postal address, name of hotel, photograph, description of hotel, location feature\n",
      "Classify Column 11\n",
      "Column 1 || Column 2 || Column 3 || Column 4 || Column 5 || Column 6 || Column 7 || Column 8 || Column 9 || Column 10 || Column 11 || Column 12 || \n",
      "|| Better Together: Playa San Luis Pool, Gulf View, Gorgeous! Free Activities ||  ||  ||  ||  ||  ||  ||  ||  ||  || A/C Balcony / Patio Hairdryer Non-smoking rooms Pool Kitchen / Kitchenette WiFi Parking TV / Entertainment Washing machine ||\n",
      "Set in the centre of Letchworth Garden City, The Broadway Hotel is a thirty-five room property that features complimentary Wi-Fi || The Broadway ||  ||  || SG6 3NZ || Letchworth Garden City || United Kingdom || The Broadway ||  ||  ||  || A/C Restaurant Spa Pets Pool Free WiFi in rooms Hotel bar Parking Gym Free WiFi in lobby ||\n",
      "|| Casa Costa Azul ||  ||  ||  ||  ||  ||  ||  ||  ||  || A/C Balcony / Patio Hairdryer Non-smoking rooms Kitchen / Kitchenette Parking WiFi TV / Entertainment Pool Washing machine ||\n",
      "|| OYO 28023 Shubham Farms ||  ||  ||  ||  ||  ||  ||  ||  ||  || A/C Balcony / Patio Non-smoking rooms Kitchen / Kitchenette Pool WiFi TV / Entertainment Hairdryer Parking Washing machine ||\n",
      "|| Brentwood Modernist Guesthouse ||  ||  ||  ||  ||  ||  ||  ||  ||  || A/C Balcony / Patio Non-smoking rooms Pool Kitchen / Kitchenette Parking WiFi TV / Entertainment Hairdryer Washing machine ||\n",
      "\n",
      "Correct label: CoordinateAT\n",
      "Values used to represent this label: 52.3797122353 52.351635876 52.562855 52.382365 52.3351555484 153.229 149.125 147.126 141.14 152.252 34.2805221 34.279327 34.280819 34.2797184 34.2807121 33.895034 33.89202 33.273613 33.888017 33.900187 26.0367561 24.9475621 25.5485349 23.0274848 25.296844 -95.712891 -95.712891 -95.712891 -95.712891 -95.712891 -80.2286459 -79.3120517 -81.6402308 -80.3597626 -79.3390044 38.4021359 38.4052945 38.4039234 38.4041832 38.4079617 36.0407976 35.952867 36.1115355 36.0380783 36.336473 147.329 152.934 115.625 152.252 151.549\n",
      "Candidate labels: day of week, email, locality of address, name of tv episode, language, postal address, name of hotel, photograph, description of hotel, location feature\n",
      "Classify Column 2\n",
      "Column 1 || Column 2 || Column 3 || Column 4 || \n",
      "Director, Procurement Services (MPP I) (63007) || Employer: Pomona Pomona || Purchasing and Warehouse Administration and Management ||  ||\n",
      "PW Foreman Field Operations (Road Construction) || Employer: CHARLESTON COUNTY, SC CHARLESTON COUNTY, SC || Construction and Skilled Trades || $22.57 - $38.83 Hourly ||\n",
      "Fleet Mechanic (Automotive or Truck) Career Path || Employer: City of Boynton Beach, FL City of Boynton Beach, FL || Fleet Management Transportation or Transit Construction and Skilled Trades ||  ||\n",
      "PUBLIC WORKS MAINTENANCE SUPERVISOR || Employer: City of Fort Lauderdale, FL City of Fort Lauderdale, FL || Public Works Building Maintenance Clerical and Administrative Support Administrative Analysis and Research || $59,767.76 - $92,645.28 Annually ||\n",
      "Juvenile Institutions Officer II || Monterey County Human Resources || Probation || $4,714.67 - $6,437.60 Monthly ||\n",
      "\n",
      "Correct label: Organization\n",
      "Values used to represent this label: Pelham Public Library Pelham Public Library Pelham Public Library Pelham Public Library Pelham Public Library Dallas Cowboys at Arlington TX on 12/27 3:25PM Texas Longhorns at Austin TX on 11/13 3:30AM Indiana State Sycamores at Terre Haute IN on 10/24 3:30AM Tulsa Golden Hurricane at Tulsa OK on 9/19 3:30AM Jacksonville State Gamecocks at Jacksonville OR on 10/31 3:00PM Andre Marto - North York Real Estate Agents - Realtors Andre Marto - North York Real Estate Agents - Realtors Andre Marto - North York Real Estate Agents - Realtors Andre Marto - North York Real Estate Agents - Realtors Andre Marto - North York Real Estate Agents - Realtors Sikhya Entertainment Mr. Tamborine Man Essential Pictures Dirty Hands Productions Beacon Pictures Beacon Communications First Film Company Manny O Productions Film4 Productions Lipsync Productions Quickfire Films Sigma Films Ltd. Creative Scotland Northern Ireland Screen Nobili-Design.com Nobili-Design.com Nobili-Design.com Nobili-Design.com Nobili-Design.com Philosophy Education Philosophy Education Philosophy Education Philosophy Education Philosophy Education American Academy of Arts and Sciences The World&#039;s Billionaires National Academy of Engineering Center for Research Libraries European Broadcasting Union Organization Organization Organization Organization Organization Maker Cube INC. Maker Cube INC. Maker Cube INC. Maker Cube INC. Maker Cube INC. Linda Lael Miller Jan Beinßen Gerard Alamargot Sui Ishida Benedict Wells\n",
      "Candidate labels: price, local business, postal code, name of creative work, duration, work hours, job posting description, job posting, monetary amount, category code\n",
      "Classify Column 1\n",
      "Column 1 || Column 2 || Column 3 || \n",
      "||  || 118 kcal ||\n",
      "||  || 304 kcal ||\n",
      "||  || 121 kcal ||\n",
      "||  || 183 kcal ||\n",
      "||  || 31 kcal ||\n",
      "\n",
      "Correct label: Time\n",
      "Values used to represent this label: 2020-10-02T06:30:00+05:30 2020-09-21T12:30:00+04:00 2020-10-02T08:30:00+05:30 2020-10-01T07:00:00+05:30 2020-10-02T12:00:00+05:30 05:00pm Closed 05:00pm 05:00pm 11:00am 05:00pm 05:00pm 17:00 17:00 17:00 17:00 PT35M PT20M PT18M PT40M PT6M false false false false false PT1H43M PT10M PT20M PT8M PT12M 08:00 08:00 08:00 08:00 08:00 08:00 08:00 07:00 07:00 07:00 07:00 07:00 07:00 07:00 07:00 07:00 07:00 07:00 07:00 07:00 07:00 08:00 08:00 08:00 08:00 08:00 08:00 08:00 08:00 08:00 08:00 08:00 08:00 08:00 08:00 14:00 22:00 22:00 19:00 14:00 14:00 22:00 22:00 22:00 15:30 14:00 14:00 22:00 22:00 19:00 14:00 14:00 22:00 22:00 22:00 15:30 14:00 14:00 22:00 22:00 19:00 14:00 14:00 22:00 22:00 22:00 15:30 14:00 14:00 22:00 22:00 19:00 14:00 14:00 22:00 22:00 22:00 15:30 14:00 14:00 22:00 22:00 19:00 14:00 14:00 22:00 22:00 22:00 15:30 14:00 PT20M PT15M PT30M PT10M PT30M 17:00 17:00 17:00 17:00 17:00 PT10M PT37M PT2H40M PT37M PT30M\n",
      "Candidate labels: unit text, description of product, duration, postal code, weight, coordinate, number, quantitative value, mass, energy\n",
      "Classify Column 2\n",
      "Column 1 || Column 2 || Column 3 || \n",
      "||  || 118 kcal ||\n",
      "||  || 304 kcal ||\n",
      "||  || 121 kcal ||\n",
      "||  || 183 kcal ||\n",
      "||  || 31 kcal ||\n",
      "\n",
      "Correct label: RestrictedDiet\n",
      "Values used to represent this label: VegetarianDiet VeganDiet VegetarianDiet GlutenFreeDiet GlutenFreeDiet Dairy-free Vegetarian Dairy-free Dairy-free Vegan Vegetarian Dairy-free VeganDiet VeganDiet VeganDiet VegetarianDiet VegetarianDiet Vegetarian Vegetarian Vegetarian Vegetarian Vegetarian http://schema.org/VeganDiet http://schema.org/GlutenFreeDiet http://schema.org/LowLactoseDiet http://schema.org/VeganDiet http://schema.org/GlutenFreeDiet http://schema.org/LowLactoseDiet http://schema.org/LowLactoseDiet http://schema.org/VegetarianDiet http://schema.org/GlutenFreeDiet http://schema.org/LowLactoseDiet http://schema.org/VegetarianDiet http://schema.org/GlutenFreeDiet Allergen Friendly, Non-GMO, Gluten-Free Allergen Friendly, Non-GMO, Gluten-Free Allergen Friendly, Non-GMO, Gluten-Free Allergen Friendly, Non-GMO, Gluten-Free Allergen Friendly, Non-GMO, Gluten-Free VegetarianDiet VeganDiet VegetarianDiet VeganDiet VegetarianDiet VegetarianDiet VegetarianDiet VeganDiet VegetarianDiet VegetarianDiet http://schema.org/VegetarianDiet http://schema.org/VegetarianDiet http://schema.org/GlutenFreeDiet http://schema.org/VegetarianDiet http://schema.org/GlutenFreeDiet http://schema.org/VegetarianDiet http://schema.org/GlutenFreeDiet http://schema.org/VegetarianDiet http://schema.org/GlutenFreeDiet VeganDiet VeganDiet VeganDiet VeganDiet VeganDiet\n",
      "Candidate labels: unit text, description of product, duration, postal code, weight, coordinate, number, quantitative value, mass, energy\n",
      "Classify Column 4\n",
      "Column 1 || Column 2 || Column 3 || Column 4 || Column 5 || Column 6 || \n",
      "The Mother Code || Get ready to flip pages and encounter a quiet disturbing mash up of two intriguing subgenres Genetic mutation and fatal || English || Carole Stivers || Hardcover ||  ||\n",
      "The Death of Vivek Oji || Named one of the year s most anticipated books by The New York Times, Harper s Bazaar, BuzzFeed, and What || English || Akwaeke Emezi || Hardcover ||  ||\n",
      "Luster || Giveaway win OH MY FUCKING GOD I love this book Luster is everything Its mean spirited, funny, brutally smart, and || English || Raven Leilani || Hardcover ||  ||\n",
      "The Night Swim || After the first season of her true crime podcast became an overnight sensation and set an innocent man free, Rachel || English || Megan Goldin || Hardcover ||  ||\n",
      "Harrow the Ninth || Harrow the Ninth, the sequel to the sensational, USA Today bestselling novel Gideon the Ninth, turns a galaxy inside out || English || Tamsyn Muir || Hardcover ||  ||\n",
      "\n",
      "Correct label: Person/name\n",
      "Values used to represent this label: Daniela Modesto Daniela Modesto Daniela Modesto Daniela Modesto Daniela Modesto Marvic Mairi Myrtel Loredana Agata Rigal Ghetia Rigal Ghetia Rigal Ghetia Rigal Ghetia Rigal Ghetia Nathalie Himmelrich Nathalie Himmelrich Nathalie Himmelrich Nathalie Himmelrich Nathalie Himmelrich Paul White A3 Association for Advancing Automation Exhibitions India Group Encore Media Group eCulture Bryce Johnson Peter Jason Bobcat Goldthwait Michael Welch Kim Estes Chris Skinner Chris Skinner Chris Skinner Chris Skinner Chris Skinner adminde adminde adminde adminde adminde Damian Logghe Damian Logghe Damian Logghe Damian Logghe Damian Logghe Jill T Frey Jill T Frey Jill T Frey Jill T Frey Jill T Frey\n",
      "Candidate labels: url, description of movie, book format, creative work, brand, description of book, description of product, name of creative work, name of tv episode, name of book\n",
      "Classify Column 1\n",
      "Column 1 || Column 2 || Column 3 || Column 4 || Column 5 || Column 6 || Column 7 || \n",
      "primary || inStock || 2019-04-26T00:00:00+00:00 || Aidan&#8217;s Red Envelope Foundation || (310) 459-2485 || &#105;nfo&#64;&#65;i&#100;ansRed&#69;nve&#108;o&#112;e.org || USD ||\n",
      "primary || inStock || 2019-04-26T00:00:00+00:00 || Aidan&#8217;s Red Envelope Foundation || (310) 459-2485 || &#105;&#110;&#102;&#111;&#64;&#65;i&#100;&#97;&#110;&#115;Red&#69;&#110;&#118;e&#108;&#111;p&#101;&#46;&#111;&#114;&#103; || USD ||\n",
      "primary || inStock || 2019-04-26T00:00:00+00:00 || Aidan&#8217;s Red Envelope Foundation || (310) 459-2485 || &#105;&#110;f&#111;&#64;A&#105;&#100;a&#110;sR&#101;dE&#110;v&#101;&#108;&#111;&#112;e.&#111;rg || USD ||\n",
      "primary || inStock || 2019-04-26T00:00:00+00:00 || Aidan&#8217;s Red Envelope Foundation || (310) 459-2485 || i&#110;&#102;&#111;&#64;Aid&#97;n&#115;&#82;e&#100;&#69;n&#118;elo&#112;&#101;.&#111;rg || USD ||\n",
      "primary || inStock || 2019-04-26T00:00:00+00:00 || Aidan&#8217;s Red Envelope Foundation || (310) 459-2485 || &#105;&#110;f&#111;&#64;A&#105;&#100;&#97;nsRedE&#110;v&#101;&#108;o&#112;&#101;&#46;&#111;&#114;&#103; || USD ||\n",
      "\n",
      "Correct label: category\n",
      "Values used to represent this label: Cosmetic Dentistry > Sedation Dentistry Cosmetic Dentistry > Cosmetic Dentistry Cosmetic Dentistry > Restorative Dentistry Cosmetic Dentistry > Sedation Dentistry Cosmetic Dentistry > Implant Dentistry primary primary primary primary primary primary primary primary primary primary Lines & Spools Lawn Tractor Attachments Walk-Behind Lawn Mowers Lines & Spools Lawn Mower Replacement Parts primary primary primary primary primary primary primary primary primary primary primary primary primary primary primary primary primary primary primary primary primary primary primary primary primary primary primary primary primary primary primary primary primary Respirators Sanding Pads Paint Roller Frames Paint Buckets Paint Buckets Respirators Sanding Pads Paint Roller Frames Paint Buckets Paint Buckets primary primary primary primary primary primary primary primary primary primary primary primary primary\n",
      "Candidate labels: item availability, local business, creative work, description of product, coordinate, postal code, day of week, date and time, url, email\n",
      "Classify Column 3\n",
      "Column 1 || Column 2 || Column 3 || Column 4 || Column 5 || Column 6 || Column 7 || Column 8 || \n",
      "|| https://www.amadaseniorcare.com/rhode-island-senior-care ||  ||  ||  ||  || I was very nervous about the process of placing someone in the homes of my two elderly aunts, ages 100 ||  ||\n",
      "|| https://www.amadaseniorcare.com/tulsa-senior-care ||  ||  ||  ||  || I contacted Amada and visited with Tonnie Wainscott. My husband needed non-emergency transport to St. John's Hospital for a blood ||  ||\n",
      "|| https://www.amadaseniorcare.com/phoenix-senior-care ||  ||  ||  ||  || I didnt know why I should continue paying for my long term care policy after my husband passed away in ||  ||\n",
      "|| https://www.amadaseniorcare.com/pittsburgh-senior-care ||  ||  ||  ||  || Thank you so much for helping out my parents. I don't know what I would have done without your expertise ||  ||\n",
      "|| https://www.amadaseniorcare.com/wichita-senior-care ||  ||  ||  ||  || I don't think I can say enough good things about Amada Senior Care. The personal care they provide my Mother ||  ||\n",
      "\n",
      "Correct label: postalCode\n",
      "Values used to represent this label: 5316.0 5601.0 5301.0 4612.0 5701.0 76203-5017 76203-5017 76203-5017 76203-5017 76203-5017 25301 26330 25901-2641 25071 55910 29526 29526 29526 29526 29526 7741 9490 9460 9460 9690 29577 20772 32934 98501 19440 3240 04621 38110 8550-455 83100 22026 22125 22172 22172-1938 20109 97703 59714 57730 57761 57754 94403 94402 94065 94402 94030\n",
      "Candidate labels: street address, photograph, brand, local business, name of person, description of product, day of week, name of creative work, url, email\n",
      "Classify Column 4\n",
      "Column 1 || Column 2 || Column 3 || Column 4 || Column 5 || Column 6 || Column 7 || Column 8 || \n",
      "|| https://www.amadaseniorcare.com/rhode-island-senior-care ||  ||  ||  ||  || I was very nervous about the process of placing someone in the homes of my two elderly aunts, ages 100 ||  ||\n",
      "|| https://www.amadaseniorcare.com/tulsa-senior-care ||  ||  ||  ||  || I contacted Amada and visited with Tonnie Wainscott. My husband needed non-emergency transport to St. John's Hospital for a blood ||  ||\n",
      "|| https://www.amadaseniorcare.com/phoenix-senior-care ||  ||  ||  ||  || I didnt know why I should continue paying for my long term care policy after my husband passed away in ||  ||\n",
      "|| https://www.amadaseniorcare.com/pittsburgh-senior-care ||  ||  ||  ||  || Thank you so much for helping out my parents. I don't know what I would have done without your expertise ||  ||\n",
      "|| https://www.amadaseniorcare.com/wichita-senior-care ||  ||  ||  ||  || I don't think I can say enough good things about Amada Senior Care. The personal care they provide my Mother ||  ||\n",
      "\n",
      "Correct label: addressRegion\n",
      "Values used to represent this label: MD MD MD MD MD MI MI MI MI MI TX NM TX NM TX IL MO IL MO IL IN Jal. OR NM ON ES ES ES ES ES Michigan Michigan Michigan Michigan Michigan FL FL FL FL FL NE NE IA KS IA Qatar Portugal Portugal Brazil Portugal\n",
      "Candidate labels: street address, photograph, brand, local business, name of person, description of product, day of week, name of creative work, url, email\n",
      "Classify Column 5\n",
      "Column 1 || Column 2 || Column 3 || Column 4 || Column 5 || Column 6 || Column 7 || Column 8 || \n",
      "|| https://www.amadaseniorcare.com/rhode-island-senior-care ||  ||  ||  ||  || I was very nervous about the process of placing someone in the homes of my two elderly aunts, ages 100 ||  ||\n",
      "|| https://www.amadaseniorcare.com/tulsa-senior-care ||  ||  ||  ||  || I contacted Amada and visited with Tonnie Wainscott. My husband needed non-emergency transport to St. John's Hospital for a blood ||  ||\n",
      "|| https://www.amadaseniorcare.com/phoenix-senior-care ||  ||  ||  ||  || I didnt know why I should continue paying for my long term care policy after my husband passed away in ||  ||\n",
      "|| https://www.amadaseniorcare.com/pittsburgh-senior-care ||  ||  ||  ||  || Thank you so much for helping out my parents. I don't know what I would have done without your expertise ||  ||\n",
      "|| https://www.amadaseniorcare.com/wichita-senior-care ||  ||  ||  ||  || I don't think I can say enough good things about Amada Senior Care. The personal care they provide my Mother ||  ||\n",
      "\n",
      "Correct label: CoordinateAT\n",
      "Values used to represent this label: 52.3797122353 52.351635876 52.562855 52.382365 52.3351555484 153.229 149.125 147.126 141.14 152.252 34.2805221 34.279327 34.280819 34.2797184 34.2807121 33.895034 33.89202 33.273613 33.888017 33.900187 26.0367561 24.9475621 25.5485349 23.0274848 25.296844 -95.712891 -95.712891 -95.712891 -95.712891 -95.712891 -80.2286459 -79.3120517 -81.6402308 -80.3597626 -79.3390044 38.4021359 38.4052945 38.4039234 38.4041832 38.4079617 36.0407976 35.952867 36.1115355 36.0380783 36.336473 147.329 152.934 115.625 152.252 151.549\n",
      "Candidate labels: street address, photograph, brand, local business, name of person, description of product, day of week, name of creative work, url, email\n",
      "Classify Column 7\n",
      "Column 1 || Column 2 || Column 3 || Column 4 || Column 5 || Column 6 || Column 7 || Column 8 || \n",
      "|| https://www.amadaseniorcare.com/rhode-island-senior-care ||  ||  ||  ||  || I was very nervous about the process of placing someone in the homes of my two elderly aunts, ages 100 ||  ||\n",
      "|| https://www.amadaseniorcare.com/tulsa-senior-care ||  ||  ||  ||  || I contacted Amada and visited with Tonnie Wainscott. My husband needed non-emergency transport to St. John's Hospital for a blood ||  ||\n",
      "|| https://www.amadaseniorcare.com/phoenix-senior-care ||  ||  ||  ||  || I didnt know why I should continue paying for my long term care policy after my husband passed away in ||  ||\n",
      "|| https://www.amadaseniorcare.com/pittsburgh-senior-care ||  ||  ||  ||  || Thank you so much for helping out my parents. I don't know what I would have done without your expertise ||  ||\n",
      "|| https://www.amadaseniorcare.com/wichita-senior-care ||  ||  ||  ||  || I don't think I can say enough good things about Amada Senior Care. The personal care they provide my Mother ||  ||\n",
      "\n",
      "Correct label: Review\n",
      "Values used to represent this label: What a fun item! You can create your own unique piece by adding these dangles to a chain or bracelet. This is a very popular ring and purchasing this bundle is a great way to build your stock if you So pretty!! They are truly \\\"Twice as Nice\\\"!! The colors are vibrant, the style choices are great. I have many Great width for a mans wrist. Looks expensive and great shine I finally wore a pair of these - wow!! So lightweight and so pretty! If you love dangly earrings these Over the years, A.N. Wilson has become renowned for his studied portraits of Victorian history. Now he has finally come With the general rise in living costs and the increasingly bad publicity for ready meals over the last few years Short almost abrupt stories are followed by longer, more fleshed out ones maintaining an erratic (but engaging) pace to this Chin’s memoir, Sex, Love and Sweet Suicide charts the author’s life from her childhood, living in foster care, to the Tracey S Rosenberg’s debut novel is a thrilling and emotional re-imagining of the last days of the Third Reich, told The Montreal restaurant scene is notoriously short on refined or ambitious \\\"ethnic\\\" food, save for a few exceptions such as Mostly known as a hub for ristorantes, pizzerias and trattorias, Montreal's Little Italy also houses a bunch of non-Italian neighborhood Named after the Aegean island that is home to the statue of Poseidon (god of the sea), Milos has served With spring approaching � and the weather slowly becoming more conducive to walking � I have recently started to explore While the majority of Montreal dining rooms have fully reopened by now following the COVID-19 lockdown, my handful of outings 0 0 0 1 0 Great service provided. Products are very reasonably priced and the whole ordering service was very efficient. Would definitely use again. I have bought many of these tags (and other shapes) over the years for my own dogs and for my EXCELLENT SERVICE &amp; PRODUCTS AND A PLEASURE TO DEAL WITH Great quality dog tag and fast postage, highly recommend! Fan little dress a tiny bit big for her but looks adorable. Good quality material and the added touch of I&#039;ve just received the printed mouse mat with the picture of my whippet on it. It is lovely. The colours this stuff has changed the game for my artmaking! heat activated easy to spread goes a long way for many This is the first time I've ever used Miracle Muck and it truly is a miracle. It works great to I use Miracle Muck to mount canvas prints to Ultraboard, a polystyrene board which is water resistant. I apply a I'm an artist. I've created dozens and dozens of oil collages (canvas glued to canvas) and found Miracle Muck to I use it for attaching my small and medium linen oil paintings to wood panels and it works great. I More fabulous peek-a-boo cookies! The caramel chocolate pairing cannot be beat!! Wow! Just the prettiest and tastiest cookie ever, I Love this recipe. It is simple to make and so tasty - great almond flavor. Highly recommend. So festive Laura! You gave me a perfect dessert idea to prepare with my little one. He loves working with me in the I'm wishing I had one RIGHT NOW! Oh, my gosh, these babies are calling my name!! I can see making Absolutely a winning combination Laura! Wish I could grab one though my screen! Oooh, double chocolate AND macadamia nuts!!! You've Even the bananas alone are really good! Thanks for the recipe! I made this using buttermilk. Delicious! Laura, made this My Mama always makes her tacos this way. I forget to do this method most of the time, then I YUM this chicken caprese salad is nothing short of amazing. This chicken caprese salad version was a winner! I meal This was so tasty! Just one question.. The sauce was cooking perfectly but right before I was about to pull Made these last night, yummy!!! They were so delish this morning for breakfast, yum! Thanks. You really need to have We love this recipe. Make it so often I don't need a recipe anymore. Thank you! i really want to try this amazing recipe. Healthy recipe for everyone. Almonds are excellent for brain development in kids This sounds so yummy!! I don’t have a microwave. Do you know if I could cook in the oven and Thanks for sharing! Love this! My favorite weekday dessert! So tasty. These are so fudgy and taste absolutely incredible! Thanks for the recipe! Went here on friday for the first time, and the food was so good!!! Really great service and the food The décor in The Alchemist is exactly what you'd expect from an ultra-modern cocktail bar - lots of copper trimmings, We love it and go there regularly. Great food, service, quality, price, atmosphere. It is a tiny gem of Oxford Positioned amongst the eateries on the Westgate's swanky rooftop terrace, Dirty Bones seems perfectly suited to meet the needs of The pizza is not autentic italian-why the cheese produce oil on top of the pizza? Because not good quality! The\n",
      "Candidate labels: street address, photograph, brand, local business, name of person, description of product, day of week, name of creative work, url, email\n",
      "Classify Column 4\n",
      "Column 1 || Column 2 || Column 3 || Column 4 || \n",
      "Ava (2020) || Nonton Ava (2020) Film Subtitle Indonesia Download Movie Streaming Online – Terbit21 A black ops assassin is forced to fight || 2020-09-09T17:04:11+07:00 || Terbit21 ||\n",
      "Big Time Adolescence (2019) || Nonton Big Time Adolescence (2019) Film Subtitle Indonesia Download Movie Streaming Online – Terbit21 A seemingly bright and mostly innocent ||  || Terbit21 ||\n",
      "The Unfamiliar (2020) || Nonton The Unfamiliar (2020) Film Subtitle Indonesia Download Movie Streaming Online – Terbit21 A British Army doctor comes back from || 2020-09-11T18:06:00+07:00 || Terbit21 ||\n",
      "The Devil’s Machine (2019) || Nonton The Devil’s Machine (2019) Film Subtitle Indonesia Download Movie Streaming Online – Terbit21 Antique expert Brendon Cole is summoned || 2020-09-13T18:04:52+07:00 || Terbit21 ||\n",
      "Steel Rain 2: Summit (2020) || Nonton Steel Rain 2: Summit (2020) Film Subtitle Indonesia Download Movie Streaming Online – Terbit21 A futuristic film about a ||  || Terbit21 ||\n",
      "\n",
      "Correct label: Person/name\n",
      "Values used to represent this label: Daniela Modesto Daniela Modesto Daniela Modesto Daniela Modesto Daniela Modesto Marvic Mairi Myrtel Loredana Agata Rigal Ghetia Rigal Ghetia Rigal Ghetia Rigal Ghetia Rigal Ghetia Nathalie Himmelrich Nathalie Himmelrich Nathalie Himmelrich Nathalie Himmelrich Nathalie Himmelrich Paul White A3 Association for Advancing Automation Exhibitions India Group Encore Media Group eCulture Bryce Johnson Peter Jason Bobcat Goldthwait Michael Welch Kim Estes Chris Skinner Chris Skinner Chris Skinner Chris Skinner Chris Skinner adminde adminde adminde adminde adminde Damian Logghe Damian Logghe Damian Logghe Damian Logghe Damian Logghe Jill T Frey Jill T Frey Jill T Frey Jill T Frey Jill T Frey\n",
      "Candidate labels: time, name of creative work, rating, date and time, description of product, date, url, name of tv episode, description of movie, name of movie\n",
      "Classify Column 3\n",
      "Column 1 || Column 2 || Column 3 || Column 4 || \n",
      "Chirpie's Magical Sky ||  ||  || Not Rated ||\n",
      "Killers || Spencer Aimes (Ashton Kutcher) is just your average, undercover, government-hired super-assassin accustomed to a life of exotic European locales, flashy ||  ||  ||\n",
      "Chaos Walking || Todd Hewitt lives on the distant planet of New World - a new hope for humanity until struck by The || Doug Liman || Not Rated ||\n",
      "The Conjuring: The Devil Made Me Do It || One of the most sensational cases from the files of real-life paranormal investigators Ed and Lorraine Warren, it starts with ||  ||  ||\n",
      "The New Mutants || A group of young mutants is being held in an isolated hospital for psychiatric monitoring. When strange occurrences begin to || Josh Boone || PG-13 ||\n",
      "\n",
      "Correct label: Person/name\n",
      "Values used to represent this label: Daniela Modesto Daniela Modesto Daniela Modesto Daniela Modesto Daniela Modesto Marvic Mairi Myrtel Loredana Agata Rigal Ghetia Rigal Ghetia Rigal Ghetia Rigal Ghetia Rigal Ghetia Nathalie Himmelrich Nathalie Himmelrich Nathalie Himmelrich Nathalie Himmelrich Nathalie Himmelrich Paul White A3 Association for Advancing Automation Exhibitions India Group Encore Media Group eCulture Bryce Johnson Peter Jason Bobcat Goldthwait Michael Welch Kim Estes Chris Skinner Chris Skinner Chris Skinner Chris Skinner Chris Skinner adminde adminde adminde adminde adminde Damian Logghe Damian Logghe Damian Logghe Damian Logghe Damian Logghe Jill T Frey Jill T Frey Jill T Frey Jill T Frey Jill T Frey\n",
      "Candidate labels: name of event, email, name of creative work, url, creative work series, description of product, rating, name of tv episode, name of movie, description of movie\n",
      "Classify Column 2\n",
      "Column 1 || Column 2 || Column 3 || Column 4 || \n",
      "Heurtel ||  || 83 || 189 ||\n",
      "Aleñá || Spanish || 73kg || 180cm ||\n",
      "Rolands Smits ||  || 92 || 202 ||\n",
      "Xavi Pascual Fuertes ||  ||  ||  ||\n",
      "Lenglet || French || 81kg || 186cm ||\n",
      "\n",
      "Correct label: Country\n",
      "Values used to represent this label: Sri Lanka Maldives Morocco Mallorca Bali US US US US US United States United States United States United States United States Ireland Ireland Ireland Ireland Ireland Russia Russia Russia Russia Russia US US US US US United States United States United States United States United States UNITED STATES UNITED STATES UNITED STATES UNITED STATES UNITED STATES US US US US US United Kingdom United Kingdom United Kingdom United Kingdom\n",
      "Candidate labels: unit text, locality of address, description of product, url, email, postal address, weight, name of creative work, name of person, sports team\n",
      "Classify Column 4\n",
      "Column 1 || Column 2 || Column 3 || Column 4 || \n",
      "Heurtel ||  || 83 || 189 ||\n",
      "Aleñá || Spanish || 73kg || 180cm ||\n",
      "Rolands Smits ||  || 92 || 202 ||\n",
      "Xavi Pascual Fuertes ||  ||  ||  ||\n",
      "Lenglet || French || 81kg || 186cm ||\n",
      "\n",
      "Correct label: Distance\n",
      "Values used to represent this label: 152x270 mm 135x270 mm 145x248 mm 130x248 mm 132x256 mm 130x288 mm 145x275 mm 0.00 inches 0.00 inches 0.00 inches 0.00 inches 0.00 inches 1,0000 1,0000 1,0000 1,0000 1,0000 4.0 18.0 10.0 4.0 40.0 29-1/2 in. 10.2 in. 19 in. 1.5 in. 3.5 in. 28mm 60mm 28mm 28mm 28mm 0.00 inches 0.00 inches 0.00 inches 0.00 inches 0.00 inches 6.5 6.0 8.0 6.5 9.75 undefined undefined undefined undefined undefined 0.00 inches 0.00 inches 0.00 inches 0.00 inches 0.00 inches\n",
      "Candidate labels: unit text, locality of address, description of product, url, email, postal address, weight, name of creative work, name of person, sports team\n",
      "Classify Column 4\n",
      "Column 1 || Column 2 || Column 3 || Column 4 || Column 5 || \n",
      "||  || https://ambajewel.com/products/3-15-ct-rustic-brownish-gray-natural-loose-diamond-8-07-mm-x-2-97-mm-rose-cut-diamond-rose-cut-diamond-sj44-26 ||  || //cdn.shopify.com/s/files/1/0077/2888/9892/products/il_fullxfull.2003519147_a7zr_grande.jpg?v=1581391356 ||\n",
      "||  || https://ambajewel.com/products/1-76-ct-100-natural-loose-rough-diamond-6-90-mm-x-5-07-mm-rare-fancy-fancy-grey-uncut-earth-mined-sj24-99 ||  || //cdn.shopify.com/s/files/1/0077/2888/9892/products/il_fullxfull.1843463404_izc0_grande.jpg?v=1581389460 ||\n",
      "||  || https://ambajewel.com/products/3-54-ct-salt-and-pepper-rose-cut-cushion-shape-natural-loose-diamond-9-18-mm-x-8-46-mm-x-4-64-mm-natural-diamond-for-jewelry-sj49-55 ||  || //cdn.shopify.com/s/files/1/0077/2888/9892/products/il_fullxfull.2087094115_8qpw_grande.jpg?v=1581391494 ||\n",
      "||  || https://ambajewel.com/products/0-45-ct-salt-and-pepper-round-brilliant-cut-natural-loose-diamond-grey-4-80-mm-x-3-10-mm-sj34-64 ||  || //cdn.shopify.com/s/files/1/0077/2888/9892/products/il_fullxfull.1721307566_r0of_grande.jpg?v=1581382348 ||\n",
      "||  || https://ambajewel.com/products/0-42-ct-brownish-gray-natural-diamond-4-64-mm-x-2-98-mm-round-brilliant-cut-natural-loose-diamond-sj34-92 ||  || //cdn.shopify.com/s/files/1/0077/2888/9892/products/il_fullxfull.2031104046_i044_grande.jpg?v=1581381934 ||\n",
      "\n",
      "Correct label: weight\n",
      "Values used to represent this label: 4.5 4.0 4.0 4.0 4.0 0.2 kg 0.1 kg 0.17 kg 0.45 kg 0.45 kg 200 g 200 g 200 g 300 g 1000 g undefined undefined undefined undefined undefined 0.5 1.0 1.0 0.5 0.5 1.00 LBS 1.00 LBS 1.00 LBS 0.20 LBS 1.00 LBS 900 g 750 ml 500 g 110 g 200 g 0.54 kg 0.224 kg 0.001 kg 0.06 kg 5 kg 1.500000 lbs 100.000000 lbs 5.000000 lbs 42.000000 lbs 8.000000 lbs 186.0 168.0 168.0 193.0 185.0\n",
      "Candidate labels: coordinate, brand, review, email, identifier, description of product, name of product, photograph, product model, url\n",
      "Classify Column 1\n",
      "Column 1 || Column 2 || Column 3 || \n",
      "Mastergen || +44-1823430317 || Mo-Fr 09:00-17:00 ||\n",
      "Mastergen || +44-1823430317 || Mo-Fr 09:00-17:00 ||\n",
      "Mastergen || +44-1823430317 || Mo-Fr 09:00-17:00 ||\n",
      "Mastergen || +44-1823430317 || Mo-Fr 09:00-17:00 ||\n",
      "Mastergen || +44-1823430317 || Mo-Fr 09:00-17:00 ||\n",
      "\n",
      "Correct label: LocalBusiness/name\n",
      "Values used to represent this label: Junk King Atlanta North Junk King Orange County Junk King Seattle Junk King Atlanta South Junk King Northwest Chicago Dr. John Ekweani Professor B. U. Ezem Happy Fits Dr. Arinze Gerald Ezeani Dr. Ewaoche Emmanuel The Maynard Group, Inc The LoMonaco Real Estate Group ProReferee Virtual Financial Adolescent Counseling Services Parco (Singapore) Pte Ltd Jupiter Design Studios TechSource Systems Pte Ltd The Wine Club Pte Ltd Coconut Tree Lightings Hip Realty Hip Realty Hip Realty Hip Realty Hip Realty AlltimeLocksmith AlltimeLocksmith AlltimeLocksmith AlltimeLocksmith AlltimeLocksmith Furniture Village Thurrock Furniture Village Exeter Furniture Village Stevenage Furniture Village Romford Furniture Village Peterborough Encuentro Latino Washtenaw Sportsman's Club McShane's Irish Pub Wax Bar Around Town Tours RAM NURSERY RAM NURSERY RAM NURSERY RAM NURSERY RAM NURSERY PetzBed Paintsmiths Ballito Lianca Dookran Physiotherapist On The Move Sugar Dance\n",
      "Candidate labels: day of week, email, opening hours, telephone, coordinate, identifier, fax number, date and time, time, postal code\n",
      "Classify Column 1\n",
      "Column 1 || Column 2 || Column 3 || Column 4 || Column 5 || \n",
      "Air Fryer and Pressure Cooker Basics || Nourish Wellness || inStock || primary || &#104;&#101;&#97;l&#116;&#104;y&#109;o&#111;n&#64;&#111;utlo&#111;k&#46;&#99;&#111;&#109; ||\n",
      "Brilliant Breakfast Basics Cooking Class (Hands-on) || Healthy Eats Classroom || inStock || primary || &#104;ea&#108;&#116;h&#121;mo&#111;&#110;&#64;&#111;utl&#111;&#111;k.c&#111;&#109; ||\n",
      "Tasty Thai Cooking Class (Hands-on) || Health Coaching at Yakima Integrative Health || inStock || primary || &#104;e&#97;l&#116;h&#121;&#109;oo&#110;&#64;o&#117;tl&#111;ok.com ||\n",
      "Indian At Home Cooking Class || Healthy Eats Classroom || inStock || primary || &#104;e&#97;&#108;&#116;h&#121;m&#111;o&#110;&#64;&#111;utlo&#111;&#107;&#46;&#99;o&#109; ||\n",
      "Tasty Thai Two Cooking Class (Hands-on) || Healthy Eats Classroom || inStock || primary || &#104;ea&#108;&#116;hym&#111;o&#110;&#64;&#111;&#117;&#116;look&#46;co&#109; ||\n",
      "\n",
      "Correct label: Event/name\n",
      "Values used to represent this label: ABC Keystone Southwest Regional Construction Wake-up Call Event &#8211; Winter 2020 Virtual Event: ABC Keystone&#8217;s Safety Awards Presented by Cohen Seglias Pallas Greenhall &#038; Furman PC Self Management &#8211; Part of the Leadership Development Series ABC Tailgate Party Presented by Barley Snyder Featuring: Cornhole Tournament, Chili Cook-Off &#038; Craft Beer Tastings Basic Blueprint Reading for Support Staff JV/V Football vs West Jefferson @ THS 4 & 7pm School Board Mtg. JV/V Football vs American Falls @ THS 4 & 7pm TSD School Board Special Meeting -- 1.) TSD Reopening Plan-Review and Update 2.) Strategic Plan Working Session TSD School Board - Strategic Plan Work Session Kitchen Remodeling Workshop Rotary Run Charity Classic 2020 Multi-Chamber Economic Outlook Luncheon 2020 Books & Brunch - Evening Edition Hinsdale Chamber Quarterly Business Meeting Sept 2020 An Evening with Emily Haines &#038; The Soft Skeleton Teenage Diaries Revisited Jen Kirkman “I Know What I’m Doing And Other Lies I Tell Myself” Journalism in the Time of COVID-19 Café Nite Open House for 149 Common Lane Beverly MA 01915 Open House for 34 Wenham Street Danvers MA 01923 Open House for 32 Witham Street Gloucester MA 01930 Open House for 2 Birch Brook Road Lynn MA 01905 Open House for 13 Cedar Street Wenham MA 01984 An 1855 Christmas Celebration 816-524-8770 816-229-8980 CANCELLED - Dogtober Fest 32nd Annual Christmas in the Park (816) 503-4800 32nd Annual Christmas in the Park EVENT CANCELLED: 215 Years of the American Soldier 2020 Triage Cancer Conference – Virtual Living Well Cancer Resource Center – Navigating Work & Cancer Triage Cancer Insurance & Finance Intensive – Boston, MA Triage Cancer Webinar Series – Write for Life 2021 Triage Cancer Conference – Atlanta, GA Beowulf (Asian Premiere) Legend of the Nordic Gods Journey Through Asia Magic, Mystery & Mayhem! The Secret Lives of Baba Segi’s Wives (Asian Premiere) Startup ecosystem Serbia Disrupt Berlin 2019 DefCamp Bucharest Digitalk 2020 &#8211; Sofia Techsylvania 2020 International Student Orientation Second Term Registration Men&#8217;s Basketball Camp Terrific Tuesday Concert &#8211; Dr. Jamie Dahman and Dr. Christy Lee Popcorn Monday\n",
      "Candidate labels: brand, name of product, itemlist, description of event, name of creative work, name of book, description of recipe, description of product, email, name of recipe\n",
      "Classify Column 2\n",
      "Column 1 || Column 2 || Column 3 || Column 4 || Column 5 || \n",
      "Air Fryer and Pressure Cooker Basics || Nourish Wellness || inStock || primary || &#104;&#101;&#97;l&#116;&#104;y&#109;o&#111;n&#64;&#111;utlo&#111;k&#46;&#99;&#111;&#109; ||\n",
      "Brilliant Breakfast Basics Cooking Class (Hands-on) || Healthy Eats Classroom || inStock || primary || &#104;ea&#108;&#116;h&#121;mo&#111;&#110;&#64;&#111;utl&#111;&#111;k.c&#111;&#109; ||\n",
      "Tasty Thai Cooking Class (Hands-on) || Health Coaching at Yakima Integrative Health || inStock || primary || &#104;e&#97;l&#116;h&#121;&#109;oo&#110;&#64;o&#117;tl&#111;ok.com ||\n",
      "Indian At Home Cooking Class || Healthy Eats Classroom || inStock || primary || &#104;e&#97;&#108;&#116;h&#121;m&#111;o&#110;&#64;&#111;utlo&#111;&#107;&#46;&#99;o&#109; ||\n",
      "Tasty Thai Two Cooking Class (Hands-on) || Healthy Eats Classroom || inStock || primary || &#104;ea&#108;&#116;hym&#111;o&#110;&#64;&#111;&#117;&#116;look&#46;co&#109; ||\n",
      "\n",
      "Correct label: Place/name\n",
      "Values used to represent this label: Big Hart Brewing Co. Big Hart Brewing Co. Big Hart Brewing Co. Big Hart Brewing Co. Big Hart Brewing Co. Matilija Falls Graveyard Of The Great Lakes Blue Lake Wild Giraffe Sunset Lake Floating Bridge Bengaluru, IN Kanpur, IN Bengaluru, IN Chennai, IN Gurgaon, IN Bristol, City of Bristol, UK Woodford Green IG8 7NR, UK Brentford, UK Watford, Hertfordshire, UK Sheffield, South Yorkshire, UK 411 Royal Harmony Drive 840 Champagne Lane 432 E Howard Avenue #6 UNIT 6 15800 Burdette Court 12892 Waterside Drive Fallon Theatre Fallon Theatre Fallon Theatre Fallon Theatre Fallon Theatre Run Hub Northwest Run Hub Northwest Run Hub Northwest Run Hub Northwest Run Hub Northwest The Jungle NI Social Enterprise Hub Unison Northern Ireland Colin Glen Forest Park Natural Cookery School Natural Cookery School Natural Cookery School Natural Cookery School Natural Cookery School Edgewood Park Coyote Point Recreation Area Edgewood Park Edgewood Park Cañada Road between the Filoli entrance and Highway 92\n",
      "Candidate labels: brand, name of product, itemlist, description of event, name of creative work, name of book, description of recipe, description of product, email, name of recipe\n",
      "Classify Column 3\n",
      "Column 1 || Column 2 || Column 3 || Column 4 || Column 5 || \n",
      "Air Fryer and Pressure Cooker Basics || Nourish Wellness || inStock || primary || &#104;&#101;&#97;l&#116;&#104;y&#109;o&#111;n&#64;&#111;utlo&#111;k&#46;&#99;&#111;&#109; ||\n",
      "Brilliant Breakfast Basics Cooking Class (Hands-on) || Healthy Eats Classroom || inStock || primary || &#104;ea&#108;&#116;h&#121;mo&#111;&#110;&#64;&#111;utl&#111;&#111;k.c&#111;&#109; ||\n",
      "Tasty Thai Cooking Class (Hands-on) || Health Coaching at Yakima Integrative Health || inStock || primary || &#104;e&#97;l&#116;h&#121;&#109;oo&#110;&#64;o&#117;tl&#111;ok.com ||\n",
      "Indian At Home Cooking Class || Healthy Eats Classroom || inStock || primary || &#104;e&#97;&#108;&#116;h&#121;m&#111;o&#110;&#64;&#111;utlo&#111;&#107;&#46;&#99;o&#109; ||\n",
      "Tasty Thai Two Cooking Class (Hands-on) || Healthy Eats Classroom || inStock || primary || &#104;ea&#108;&#116;hym&#111;o&#110;&#64;&#111;&#117;&#116;look&#46;co&#109; ||\n",
      "\n",
      "Correct label: ItemAvailability\n",
      "Values used to represent this label: inStock inStock inStock inStock http://schema.org/InStock http://schema.org/InStock http://schema.org/InStock http://schema.org/InStock http://schema.org/InStock http://schema.org/InStock http://schema.org/InStock http://schema.org/InStock http://schema.org/InStock http://schema.org/InStock https://schema.org/InStock https://schema.org/InStock https://schema.org/InStock https://schema.org/InStock https://schema.org/InStock https://schema.org/InStock https://schema.org/InStock https://schema.org/InStock https://schema.org/InStock https://schema.org/InStock http://schema.org/InStock http://schema.org/InStock http://schema.org/InStock http://schema.org/InStock http://schema.org/InStock http://schema.org/InStock http://schema.org/InStock http://schema.org/InStock http://schema.org/InStock http://schema.org/InStock https://schema.org/InStock https://schema.org/InStock https://schema.org/InStock https://schema.org/InStock https://schema.org/InStock inStock inStock inStock inStock inStock inStock\n",
      "Candidate labels: brand, name of product, itemlist, description of event, name of creative work, name of book, description of recipe, description of product, email, name of recipe\n",
      "Classify Column 4\n",
      "Column 1 || Column 2 || Column 3 || Column 4 || Column 5 || \n",
      "Air Fryer and Pressure Cooker Basics || Nourish Wellness || inStock || primary || &#104;&#101;&#97;l&#116;&#104;y&#109;o&#111;n&#64;&#111;utlo&#111;k&#46;&#99;&#111;&#109; ||\n",
      "Brilliant Breakfast Basics Cooking Class (Hands-on) || Healthy Eats Classroom || inStock || primary || &#104;ea&#108;&#116;h&#121;mo&#111;&#110;&#64;&#111;utl&#111;&#111;k.c&#111;&#109; ||\n",
      "Tasty Thai Cooking Class (Hands-on) || Health Coaching at Yakima Integrative Health || inStock || primary || &#104;e&#97;l&#116;h&#121;&#109;oo&#110;&#64;o&#117;tl&#111;ok.com ||\n",
      "Indian At Home Cooking Class || Healthy Eats Classroom || inStock || primary || &#104;e&#97;&#108;&#116;h&#121;m&#111;o&#110;&#64;&#111;utlo&#111;&#107;&#46;&#99;o&#109; ||\n",
      "Tasty Thai Two Cooking Class (Hands-on) || Healthy Eats Classroom || inStock || primary || &#104;ea&#108;&#116;hym&#111;o&#110;&#64;&#111;&#117;&#116;look&#46;co&#109; ||\n",
      "\n",
      "Correct label: category\n",
      "Values used to represent this label: Cosmetic Dentistry > Sedation Dentistry Cosmetic Dentistry > Cosmetic Dentistry Cosmetic Dentistry > Restorative Dentistry Cosmetic Dentistry > Sedation Dentistry Cosmetic Dentistry > Implant Dentistry primary primary primary primary primary primary primary primary primary primary Lines & Spools Lawn Tractor Attachments Walk-Behind Lawn Mowers Lines & Spools Lawn Mower Replacement Parts primary primary primary primary primary primary primary primary primary primary primary primary primary primary primary primary primary primary primary primary primary primary primary primary primary primary primary primary primary primary primary primary primary Respirators Sanding Pads Paint Roller Frames Paint Buckets Paint Buckets Respirators Sanding Pads Paint Roller Frames Paint Buckets Paint Buckets primary primary primary primary primary primary primary primary primary primary primary primary primary\n",
      "Candidate labels: brand, name of product, itemlist, description of event, name of creative work, name of book, description of recipe, description of product, email, name of recipe\n",
      "Classify Column 3\n",
      "Column 1 || Column 2 || Column 3 || \n",
      "https://schema.org/EventScheduled || https://schema.org/OnlineEventAttendanceMode || primary ||\n",
      "https://schema.org/EventScheduled || https://schema.org/OnlineEventAttendanceMode || primary ||\n",
      "https://schema.org/EventScheduled || https://schema.org/OnlineEventAttendanceMode || primary ||\n",
      "https://schema.org/EventScheduled || https://schema.org/OnlineEventAttendanceMode || primary ||\n",
      "https://schema.org/EventScheduled || https://schema.org/OnlineEventAttendanceMode || primary ||\n",
      "\n",
      "Correct label: category\n",
      "Values used to represent this label: Cosmetic Dentistry > Sedation Dentistry Cosmetic Dentistry > Cosmetic Dentistry Cosmetic Dentistry > Restorative Dentistry Cosmetic Dentistry > Sedation Dentistry Cosmetic Dentistry > Implant Dentistry primary primary primary primary primary primary primary primary primary primary Lines & Spools Lawn Tractor Attachments Walk-Behind Lawn Mowers Lines & Spools Lawn Mower Replacement Parts primary primary primary primary primary primary primary primary primary primary primary primary primary primary primary primary primary primary primary primary primary primary primary primary primary primary primary primary primary primary primary primary primary Respirators Sanding Pads Paint Roller Frames Paint Buckets Paint Buckets Respirators Sanding Pads Paint Roller Frames Paint Buckets Paint Buckets primary primary primary primary primary primary primary primary primary primary primary primary primary\n",
      "Candidate labels: email, name of event, url, date and time, item availability, item condition, book format, day of week, event status, event attendance mode\n",
      "Classify Column 2\n",
      "Column 1 || Column 2 || \n",
      "Lifting Shadows || tr ||\n",
      "Northeast || tr ||\n",
      "Kautokeino-opprøret || tr ||\n",
      "The Narrow Path || tr ||\n",
      "Die Tango-Königin || tr ||\n",
      "\n",
      "Correct label: Language\n",
      "Values used to represent this label: en en en en en German English Spanish English Spanish English Beach towels Designated smoking areas Indonesian English Indonesian English en_US en_US en_US en_US en_US en en en en en English English Türkmen English English English English English English English Engels Engels Engels Nederlands Engels NL NL NL NL NL lt ro mt sl lv el-GR el-GR el-GR el-GR el-GR\n",
      "Candidate labels: description of product, name of music recording, brand, locality of address, sports event, url, name of movie, name of creative work, name of person, sports team\n",
      "Classify Column 3\n",
      "Column 1 || Column 2 || Column 3 || \n",
      "Zach's Bistro || Breakfast 9:30 a.m. - 9:30 a.m. Brunch 9 a.m. - 1 p.m. Breakfast 8 a.m. - 10:30 a.m. Dinner 1 || Website: http://oregonbistro.com ||\n",
      "Dragonwell Bistro || Dinner 4 p.m. - 9 p.m. Dinner 5 p.m. - 10 p.m. All Day 11 a.m. - 9 p.m. All || Website: http://www.DragonwellBistro.com ||\n",
      "Chez Machin || All Day 9 a.m. - 10 p.m. All Day 9 a.m. - 9 p.m. All Day 11 a.m. - 10 || Website: http://www.chezmachin.com ||\n",
      "Terra Vina Vineyard || All Day noon - 5 p.m. All Day noon - 6 p.m. Closed None - None || Website: terravinawines.com ||\n",
      "Salam Restaurant || All Day 11 a.m. - 10 p.m. All Day 11 a.m. - 9 p.m. || Website: http://www.salampdx.com ||\n",
      "\n",
      "Correct label: URL\n",
      "Values used to represent this label: http://kasdom.ru/author/norgler92/ http://kasdom.ru/author/ionas/ http://kasdom.ru/author/mira43/ http://kasdom.ru/author/olga0994/ http://kasdom.ru/author/robobrov/ https://www.gravatar.com/avatar/9e7069a336ac5d9e10d76700e346620a?s=260 https://www.gravatar.com/avatar/068cc4357897fd3ffcc2ae59d92f52b5?s=260 https://www.gravatar.com/avatar/f90ce7204c49fbc9e73fd81226387e20?s=260 https://www.gravatar.com/avatar/2e3ed9b802b670aae13a63c46ac304ec?s=260 https://www.gravatar.com/avatar/cbcd0c91fc87b3959a8f49d970e585ab?s=260 https://www.weichertagentpages.com/homes-for-sale/510-Van-Sant-Avenue-Linwood-NJ-08221-304302505 https://www.weichertagentpages.com/homes-for-sale/302-Lakeshore-Drive-Marlton-NJ-08053-304302262 https://www.weichertagentpages.com/homes-for-sale/9129-Belvedere-Drive-Frederick-MD-21704-304262114 https://www.weichertagentpages.com/homes-for-sale/188-Magothy-Beach-Road-Pasadena-MD-21122-304267144 https://www.weichertagentpages.com/homes-for-sale/7928-Fitzroy-Street-Alexandria-VA-22309-304262143 https://elitewebshop.com/en/jewellery/2018-collar-gea.html https://elitewebshop.com/en/jewellery/2017-pendientes-jour.html http:// https://vimeo.com/365873121 http://AlStunts.com https://www.youtube.com/watc... http://www.nicolereddinger.c... https://cdn-assets.alltrails.com/uploads/photo/image/19038648/extra_large_4519be25d12e9ae2dc5fb2570b664418.jpg https://cdn-assets.alltrails.com/uploads/photo/image/23779595/extra_large_129c2539a9bf3cf22c7e66fe66031cbc.jpg /api/alltrails/maps/28918531/profile_photo?size=large&static_map_size=396x180&show_static_map=yes&key=3p0t5s6b5g4g0e8k3c1j3w7y5c3m4t8i https://cdn-assets.alltrails.com/uploads/photo/image/23819954/extra_large_3501163f5bb8c6c884bf8ceb74f66a19.jpg https://cdn-assets.alltrails.com/uploads/photo/image/12156302/extra_large_b8c359cbd5a6c3bf55a3ddeb840ff674.jpg https://www.smartfitkit.com/products/high-waist-leggings https://www.smartfitkit.com/products/premium-flexibility-trainer-by-smartfitkit https://www.smartfitkit.com/products/anti-cellulite-leggings https://www.smartfitkit.com/products/smartfitkit-phoenix-massage-gun https://www.smartfitkit.com/products/high-waist-leggings-with-pockets https://www.themoviedb.org/movie/130975 https://www.themoviedb.org/movie/117527 https://www.themoviedb.org/movie/322505 https://www.themoviedb.org/movie/242562 https://www.themoviedb.org/movie/83186 http://www.christophe-reynier.fr/system-architect http://www.christophe-reynier.fr/system-architect http://www.christophe-reynier.fr/system-architect http://www.christophe-reynier.fr/system-architect http://www.christophe-reynier.fr/system-architect https://www.123movies.organic/absence/ https://www.123movies.organic/giant-little-ones/ https://www.123movies.organic/k-19-the-widowmaker/ https://www.123movies.organic/project-power/ https://www.123movies.organic/all-in-the-family/\n",
      "Candidate labels: location feature, locality of address, email, date, work hours, name of restaurant, day of week, date and time, time, opening hours\n",
      "Classify Column 2\n",
      "Column 1 || Column 2 || \n",
      "Petersham Nurseries Café || On a summer’s day there can be few more delightful spots for lunch, whether that’s on the terrace or in ||\n",
      "Church Inn || Sit on the terrace of this 18C brick pub beside the bowling green to take in lovely views of the ||\n",
      "Saneh Jaan || Thai dishes crafted from ancient recipes that once impressed the royal family are the draw here but don’t discount the ||\n",
      "Royal Osha || Originally from San Francisco, OSHA (meaning delicious) offers many of the same signature dishes, as well as new creations. ||\n",
      "Les Pêcheurs || Les Pêcheurs is a superb restaurant anchored at the water's edge with a menu that showcases Mediterranean fish grilled with ||\n",
      "\n",
      "Correct label: Review\n",
      "Values used to represent this label: What a fun item! You can create your own unique piece by adding these dangles to a chain or bracelet. This is a very popular ring and purchasing this bundle is a great way to build your stock if you So pretty!! They are truly \\\"Twice as Nice\\\"!! The colors are vibrant, the style choices are great. I have many Great width for a mans wrist. Looks expensive and great shine I finally wore a pair of these - wow!! So lightweight and so pretty! If you love dangly earrings these Over the years, A.N. Wilson has become renowned for his studied portraits of Victorian history. Now he has finally come With the general rise in living costs and the increasingly bad publicity for ready meals over the last few years Short almost abrupt stories are followed by longer, more fleshed out ones maintaining an erratic (but engaging) pace to this Chin’s memoir, Sex, Love and Sweet Suicide charts the author’s life from her childhood, living in foster care, to the Tracey S Rosenberg’s debut novel is a thrilling and emotional re-imagining of the last days of the Third Reich, told The Montreal restaurant scene is notoriously short on refined or ambitious \\\"ethnic\\\" food, save for a few exceptions such as Mostly known as a hub for ristorantes, pizzerias and trattorias, Montreal's Little Italy also houses a bunch of non-Italian neighborhood Named after the Aegean island that is home to the statue of Poseidon (god of the sea), Milos has served With spring approaching � and the weather slowly becoming more conducive to walking � I have recently started to explore While the majority of Montreal dining rooms have fully reopened by now following the COVID-19 lockdown, my handful of outings 0 0 0 1 0 Great service provided. Products are very reasonably priced and the whole ordering service was very efficient. Would definitely use again. I have bought many of these tags (and other shapes) over the years for my own dogs and for my EXCELLENT SERVICE &amp; PRODUCTS AND A PLEASURE TO DEAL WITH Great quality dog tag and fast postage, highly recommend! Fan little dress a tiny bit big for her but looks adorable. Good quality material and the added touch of I&#039;ve just received the printed mouse mat with the picture of my whippet on it. It is lovely. The colours this stuff has changed the game for my artmaking! heat activated easy to spread goes a long way for many This is the first time I've ever used Miracle Muck and it truly is a miracle. It works great to I use Miracle Muck to mount canvas prints to Ultraboard, a polystyrene board which is water resistant. I apply a I'm an artist. I've created dozens and dozens of oil collages (canvas glued to canvas) and found Miracle Muck to I use it for attaching my small and medium linen oil paintings to wood panels and it works great. I More fabulous peek-a-boo cookies! The caramel chocolate pairing cannot be beat!! Wow! Just the prettiest and tastiest cookie ever, I Love this recipe. It is simple to make and so tasty - great almond flavor. Highly recommend. So festive Laura! You gave me a perfect dessert idea to prepare with my little one. He loves working with me in the I'm wishing I had one RIGHT NOW! Oh, my gosh, these babies are calling my name!! I can see making Absolutely a winning combination Laura! Wish I could grab one though my screen! Oooh, double chocolate AND macadamia nuts!!! You've Even the bananas alone are really good! Thanks for the recipe! I made this using buttermilk. Delicious! Laura, made this My Mama always makes her tacos this way. I forget to do this method most of the time, then I YUM this chicken caprese salad is nothing short of amazing. This chicken caprese salad version was a winner! I meal This was so tasty! Just one question.. The sauce was cooking perfectly but right before I was about to pull Made these last night, yummy!!! They were so delish this morning for breakfast, yum! Thanks. You really need to have We love this recipe. Make it so often I don't need a recipe anymore. Thank you! i really want to try this amazing recipe. Healthy recipe for everyone. Almonds are excellent for brain development in kids This sounds so yummy!! I don’t have a microwave. Do you know if I could cook in the oven and Thanks for sharing! Love this! My favorite weekday dessert! So tasty. These are so fudgy and taste absolutely incredible! Thanks for the recipe! Went here on friday for the first time, and the food was so good!!! Really great service and the food The décor in The Alchemist is exactly what you'd expect from an ultra-modern cocktail bar - lots of copper trimmings, We love it and go there regularly. Great food, service, quality, price, atmosphere. It is a tiny gem of Oxford Positioned amongst the eateries on the Westgate's swanky rooftop terrace, Dirty Bones seems perfectly suited to meet the needs of The pizza is not autentic italian-why the cheese produce oil on top of the pizza? Because not good quality! The\n",
      "Candidate labels: day of week, opening hours, name of recipe, location feature, email, description of product, description of hotel, description of recipe, locality of address, name of restaurant\n",
      "Classify Column 3\n",
      "Column 1 || Column 2 || Column 3 || \n",
      "+33 3 25 29 85 12 || 20€ - 70€ || It looks like a traditional restaurant but this place – popular for a pit stop due to the interchange nearby ||\n",
      "+33 3 26 58 88 19 || 27€ - 54€ || Close to the theatre, the curtain lifts on one of the oldest brasseries in Épernay – early 20C –, replete ||\n",
      "+33 3 89 47 52 82 || 39€ - 68€ || This lovely panoramic restaurant has a minimalist decor. ||\n",
      "+49 69 9200220 || 66€ - 79€ || Under the impressive brick vaulting of the Palastbar, diners can enjoy a range of classic-modern dishes even before the show ||\n",
      "+33 4 76 24 76 93 || 28€ - 54€ || Located on the ground floor of a 1980s hotel, this friendly bistro is often packed to the rafters. ||\n",
      "\n",
      "Correct label: Review\n",
      "Values used to represent this label: What a fun item! You can create your own unique piece by adding these dangles to a chain or bracelet. This is a very popular ring and purchasing this bundle is a great way to build your stock if you So pretty!! They are truly \\\"Twice as Nice\\\"!! The colors are vibrant, the style choices are great. I have many Great width for a mans wrist. Looks expensive and great shine I finally wore a pair of these - wow!! So lightweight and so pretty! If you love dangly earrings these Over the years, A.N. Wilson has become renowned for his studied portraits of Victorian history. Now he has finally come With the general rise in living costs and the increasingly bad publicity for ready meals over the last few years Short almost abrupt stories are followed by longer, more fleshed out ones maintaining an erratic (but engaging) pace to this Chin’s memoir, Sex, Love and Sweet Suicide charts the author’s life from her childhood, living in foster care, to the Tracey S Rosenberg’s debut novel is a thrilling and emotional re-imagining of the last days of the Third Reich, told The Montreal restaurant scene is notoriously short on refined or ambitious \\\"ethnic\\\" food, save for a few exceptions such as Mostly known as a hub for ristorantes, pizzerias and trattorias, Montreal's Little Italy also houses a bunch of non-Italian neighborhood Named after the Aegean island that is home to the statue of Poseidon (god of the sea), Milos has served With spring approaching � and the weather slowly becoming more conducive to walking � I have recently started to explore While the majority of Montreal dining rooms have fully reopened by now following the COVID-19 lockdown, my handful of outings 0 0 0 1 0 Great service provided. Products are very reasonably priced and the whole ordering service was very efficient. Would definitely use again. I have bought many of these tags (and other shapes) over the years for my own dogs and for my EXCELLENT SERVICE &amp; PRODUCTS AND A PLEASURE TO DEAL WITH Great quality dog tag and fast postage, highly recommend! Fan little dress a tiny bit big for her but looks adorable. Good quality material and the added touch of I&#039;ve just received the printed mouse mat with the picture of my whippet on it. It is lovely. The colours this stuff has changed the game for my artmaking! heat activated easy to spread goes a long way for many This is the first time I've ever used Miracle Muck and it truly is a miracle. It works great to I use Miracle Muck to mount canvas prints to Ultraboard, a polystyrene board which is water resistant. I apply a I'm an artist. I've created dozens and dozens of oil collages (canvas glued to canvas) and found Miracle Muck to I use it for attaching my small and medium linen oil paintings to wood panels and it works great. I More fabulous peek-a-boo cookies! The caramel chocolate pairing cannot be beat!! Wow! Just the prettiest and tastiest cookie ever, I Love this recipe. It is simple to make and so tasty - great almond flavor. Highly recommend. So festive Laura! You gave me a perfect dessert idea to prepare with my little one. He loves working with me in the I'm wishing I had one RIGHT NOW! Oh, my gosh, these babies are calling my name!! I can see making Absolutely a winning combination Laura! Wish I could grab one though my screen! Oooh, double chocolate AND macadamia nuts!!! You've Even the bananas alone are really good! Thanks for the recipe! I made this using buttermilk. Delicious! Laura, made this My Mama always makes her tacos this way. I forget to do this method most of the time, then I YUM this chicken caprese salad is nothing short of amazing. This chicken caprese salad version was a winner! I meal This was so tasty! Just one question.. The sauce was cooking perfectly but right before I was about to pull Made these last night, yummy!!! They were so delish this morning for breakfast, yum! Thanks. You really need to have We love this recipe. Make it so often I don't need a recipe anymore. Thank you! i really want to try this amazing recipe. Healthy recipe for everyone. Almonds are excellent for brain development in kids This sounds so yummy!! I don’t have a microwave. Do you know if I could cook in the oven and Thanks for sharing! Love this! My favorite weekday dessert! So tasty. These are so fudgy and taste absolutely incredible! Thanks for the recipe! Went here on friday for the first time, and the food was so good!!! Really great service and the food The décor in The Alchemist is exactly what you'd expect from an ultra-modern cocktail bar - lots of copper trimmings, We love it and go there regularly. Great food, service, quality, price, atmosphere. It is a tiny gem of Oxford Positioned amongst the eateries on the Westgate's swanky rooftop terrace, Dirty Bones seems perfectly suited to meet the needs of The pizza is not autentic italian-why the cheese produce oil on top of the pizza? Because not good quality! The\n",
      "Candidate labels: date and time, fax number, locality of address, telephone, price range, street address, photograph, name of restaurant, price, opening hours\n",
      "Classify Column 2\n",
      "Column 1 || Column 2 || Column 3 || \n",
      "Edgar Cayce om Akashakrönikan || Todeschi, Kevin J || Hardcover ||\n",
      "Doctor Strange || Waid, Mark || Hardcover ||\n",
      "Den grekiska världen || Thylander, Hilding || Hardcover ||\n",
      "Haikyu!! || Furudate, Haruichi || Hardcover ||\n",
      "Cirkelkasse : Olive Kitteridge || Strout, Elizabeth || Hardcover ||\n",
      "\n",
      "Correct label: Person/name\n",
      "Values used to represent this label: Daniela Modesto Daniela Modesto Daniela Modesto Daniela Modesto Daniela Modesto Marvic Mairi Myrtel Loredana Agata Rigal Ghetia Rigal Ghetia Rigal Ghetia Rigal Ghetia Rigal Ghetia Nathalie Himmelrich Nathalie Himmelrich Nathalie Himmelrich Nathalie Himmelrich Nathalie Himmelrich Paul White A3 Association for Advancing Automation Exhibitions India Group Encore Media Group eCulture Bryce Johnson Peter Jason Bobcat Goldthwait Michael Welch Kim Estes Chris Skinner Chris Skinner Chris Skinner Chris Skinner Chris Skinner adminde adminde adminde adminde adminde Damian Logghe Damian Logghe Damian Logghe Damian Logghe Damian Logghe Jill T Frey Jill T Frey Jill T Frey Jill T Frey Jill T Frey\n",
      "Candidate labels: creative work series, sports team, url, creative work, name of creative work, book format, name of book, name of tv episode, brand, description of book\n",
      "Classify Column 6\n",
      "Column 1 || Column 2 || Column 3 || Column 4 || Column 5 || Column 6 || Column 7 || Column 8 || \n",
      "2020-08-21 (FRI) Something&#8217;s Fishy -OR- Who Murdered Muriel? || McCoole&#8217;s Arts &#038; Events Place || 2153455550 || primary || InStock || 20 || 215-345-5550 || pres&#115;&#64;g&#121;&#112;sys&#116;a&#103;ec&#111;m&#112;&#97;ny.c&#111;&#109; ||\n",
      "2020-12-13 (SUN) Dancer the Footloose Reindeer || McCoole&#8217;s Arts &#038; Events Place || 2153455550 || primary primary || InStock InStock || 20 40 || 215-345-5550 || &#112;r&#101;&#115;&#115;&#64;&#103;&#121;p&#115;yst&#97;g&#101;&#99;&#111;m&#112;a&#110;y&#46;co&#109; ||\n",
      "2020-08-22 (SAT) Something&#8217;s Fishy -OR- Who Murdered Muriel? || McCoole&#8217;s Arts &#038; Events Place || 2153455550 || primary primary || InStock InStock || 20 40 || 215-345-5550 || &#112;r&#101;s&#115;&#64;&#103;y&#112;&#115;y&#115;&#116;&#97;&#103;ecom&#112;a&#110;y.c&#111;m ||\n",
      "2020-10-18 (SUN) Deep in the Closet and Under the Bed || McCoole&#8217;s Arts &#038; Events Place || 2153455550 || primary primary || InStock InStock || 40 20 || 215-345-5550 || p&#114;e&#115;s&#64;gypsys&#116;ag&#101;comp&#97;&#110;y&#46;co&#109; ||\n",
      "2020-10-24 (SAT) Deep in the Closet and Under the Bed || McCoole&#8217;s Arts &#038; Events Place || 2153455550 || primary primary || InStock InStock || 20 40 || 215-345-5550 || pre&#115;&#115;&#64;gyp&#115;&#121;st&#97;gec&#111;&#109;pany.&#99;&#111;&#109; ||\n",
      "\n",
      "Correct label: price\n",
      "Values used to represent this label: 0 0 0 0 0 29.99 16.99 16.99 16.99 16.99 15.0 15.0 0.0 74.89 92.85 91.65 86.99 83.29 45.0 30.0 38.0 40.0 30.0 41,60 € 8,80 € 29,00 € 8,80 € 5,00 € 75 65 75 65 65 34000.0 40000.0 6500.0 19500.0 15000.0 4600.0 20000.0 15000.0 12.9 12.9 12.9 14.9 11.9 $10.00 $10.00 $10.00 Check with Agent Check with Agent\n",
      "Candidate labels: street address, description of event, time, day of week, date, name of tv episode, name of event, sports event, date and time, email\n",
      "Classify Column 1\n",
      "Column 1 || Column 2 || Column 3 || Column 4 || Column 5 || Column 6 || \n",
      "(09) Emerald Green All Metal Works Product Color || 14067 || Gasport || NY || 4321 Bolton Rd || US ||\n",
      "Product Sizes .5'' - 5'' All Metal Works || 14067 || Gasport || NY || 4321 Bolton Rd || US ||\n",
      "7-1/4\\ All Metal Works Product Sizes || 14067 || Gasport || NY || 4321 Bolton Rd || US ||\n",
      "All Metal Works (03) Sahara Tan Product Color || 14067 || Gasport || NY || 4321 Bolton Rd || US ||\n",
      "3/4'' x 3/32''- 50' All Metal Works Product Sizes || 14067 || Gasport || NY || 4321 Bolton Rd || US ||\n",
      "\n",
      "Correct label: LocalBusiness/name\n",
      "Values used to represent this label: Junk King Atlanta North Junk King Orange County Junk King Seattle Junk King Atlanta South Junk King Northwest Chicago Dr. John Ekweani Professor B. U. Ezem Happy Fits Dr. Arinze Gerald Ezeani Dr. Ewaoche Emmanuel The Maynard Group, Inc The LoMonaco Real Estate Group ProReferee Virtual Financial Adolescent Counseling Services Parco (Singapore) Pte Ltd Jupiter Design Studios TechSource Systems Pte Ltd The Wine Club Pte Ltd Coconut Tree Lightings Hip Realty Hip Realty Hip Realty Hip Realty Hip Realty AlltimeLocksmith AlltimeLocksmith AlltimeLocksmith AlltimeLocksmith AlltimeLocksmith Furniture Village Thurrock Furniture Village Exeter Furniture Village Stevenage Furniture Village Romford Furniture Village Peterborough Encuentro Latino Washtenaw Sportsman's Club McShane's Irish Pub Wax Bar Around Town Tours RAM NURSERY RAM NURSERY RAM NURSERY RAM NURSERY RAM NURSERY PetzBed Paintsmiths Ballito Lianca Dookran Physiotherapist On The Move Sugar Dance\n",
      "Candidate labels: photograph, distance, street address, description of product, identifier, name of place, brand, name of product, postal code, product model\n",
      "Classify Column 1\n",
      "Column 1 || Column 2 || Column 3 || \n",
      "Discord People Sound Choppy || 121478121 || 225 ||\n",
      "Rode Mic Buzzing || 121478121 || 225 ||\n",
      "Classic Rock Rar || 121478121 || 225 ||\n",
      "Disable Hdcp Amd Radeon || 121478121 || 225 ||\n",
      "Square Footage Calculator Map || 121478121 || 225 ||\n",
      "\n",
      "Correct label: Product/name\n",
      "Values used to represent this label: Neoprene Stainless Steel Stainless Steel Metal Wood Marbled Silk Cosmetics Purse : Hand Dyed Silk Bees Design Cosmetics Purse in Navy Blue : Hand Painted Silk Mati Greek Eye Design Cosmetics Purse : Hand Painted Silk Marbled Silk Cosmetics Purse in Turquoise : Hand Dyed Silk Tulips Design Cosmetics Purse in Gold Tones : Hand Painted Silk The Latest Mesh Bodysuit Check Me Out Skirt Chic In The City Duster High Maintenance Trench Jacket Black Dress Smock BISSELL BigGreen Commercial 237.056BG Nylo Grit - Rough Surfaces, 0.040'' Bristle Diameter, X 80 Crimped Grit Silicon Carbide for BGEM9000 Tornado Pad - Double Sided Diamond Floor Polishing Pad (17'', Black - 3000 Grit) Wxnnx Extractor for Litter Picker Garden Nabber, Long Arm Extender, Stainless Steel Handy Mobility Aids Neato Robotics Botvac D3 Pro App-Controlled Robot Vacuum (945-0287) Black/Gray - New Lightweight Microfiber Duster With Extension Pole, Washable, Bendable, Hypoallergenic Lint Free Cleaning, With Long Extendable & Retractable Telescopic Pole, For printted kid goat fur jacket white rabbit fur cape printting leopard kid goat fur jacket real leopard cat fur coat jacket Wedding Favors for Guests 100 Pack Mixed Large Skeleton Key Bottle Openers (Copper) with Tag and Pillow Candy Box and kate spade new york Recipe Book - Deco Dot GoBetter Wine Opener with 2 Wine Foil Cutters (Black & Red), Professional Waiter's Corkscrew, Beer and Soda Bottle Opener Functional Nuvantee Pasta Maker - Highest Quality Pasta Machine - 150 Roller with Pasta Cutter - 7 Adjustable Thickness Settings (Renewed) Chef Works Men's Vertical Stripe Chef Pants, Steel Blue, XX-Large Peaceful Chinese Style PowerPoint Template Chinese Ink Style Work Report PowerPoint Template Chinese Red Work Report PowerPoint Template Chinese Style Lotus Flower PowerPoint Template Light Blue Chinese Style PowerPoint Template Furry Pom Earrings Druzy Chokers Daisy Tassel Necklace Holland Earrings Luxe Tassels Jury Mixed Color Front View Nigerian Wig and Gown Complete Set Complete Set of Diamond Wig and Gown Complete Set of Prestige Wig and Gown Complete Set of Chancery Jury Wig and Gown Bernardino Bath's Flame HOWICK'S HALF NELSON Brunswick BRIGHTERWELL\n",
      "Candidate labels: local business, coordinate, day of week, name of tv episode, url, description of product, identifier, name of creative work, postal code, email\n",
      "Classify Column 1\n",
      "Column 1 || Column 2 || Column 3 || Column 4 || Column 5 || \n",
      "Colorado Greenback, Session IPA (6 Pack) || //cdn.shopify.com/s/files/1/0061/9180/8625/products/ColoradoGreenback-Mockup_grande.jpg?v=1599932460 || https://dieboltbrewing.com/products/atlanticbro-new-england-style-hazy-mexican-lager-w-lime-6-pack || 11.99 || USD ||\n",
      "C'est la Saison, Barrel Aged Imperial Saison 2016 (22oz Bottle) || //cdn.shopify.com/s/files/1/0061/9180/8625/products/DieboltBrewing_CestLaSaison_Mockup_grande.jpg?v=1585330605 || https://dieboltbrewing.com/products/cest-la-saison-barrel-aged-imperial-saison-2016-22oz-bottle || 10.99 || USD ||\n",
      "Electric Cowboy, West Coast IPA (6 Pack) || //cdn.shopify.com/s/files/1/0061/9180/8625/products/ElectricCowboy-Shrink-Mockup_42127fd9-a338-4c3d-a20e-bdf3d855bb06_grande.jpg?v=1595019958 || https://dieboltbrewing.com/products/electric-cowboy-west-coast-ipa-6-pack-1 || 11.99 || USD ||\n",
      "Radiola, Barrel Aged Brett Saison (4 Pack) || //cdn.shopify.com/s/files/1/0061/9180/8625/products/Radiola-Mockup_grande.jpg?v=1594500831 || https://dieboltbrewing.com/products/radiola-barrel-aged-brett-saison-4-pack || 20.99 || USD ||\n",
      "Kokosnuss, Coconut Hefeweizen (6 Pack) || //cdn.shopify.com/s/files/1/0061/9180/8625/products/Kokosnuss-Mockup_grande.jpg?v=1596237546 || https://dieboltbrewing.com/products/kokosnuss-coconut-hefeweizen-6-pack || 11.99 || USD ||\n",
      "\n",
      "Correct label: Product/name\n",
      "Values used to represent this label: Neoprene Stainless Steel Stainless Steel Metal Wood Marbled Silk Cosmetics Purse : Hand Dyed Silk Bees Design Cosmetics Purse in Navy Blue : Hand Painted Silk Mati Greek Eye Design Cosmetics Purse : Hand Painted Silk Marbled Silk Cosmetics Purse in Turquoise : Hand Dyed Silk Tulips Design Cosmetics Purse in Gold Tones : Hand Painted Silk The Latest Mesh Bodysuit Check Me Out Skirt Chic In The City Duster High Maintenance Trench Jacket Black Dress Smock BISSELL BigGreen Commercial 237.056BG Nylo Grit - Rough Surfaces, 0.040'' Bristle Diameter, X 80 Crimped Grit Silicon Carbide for BGEM9000 Tornado Pad - Double Sided Diamond Floor Polishing Pad (17'', Black - 3000 Grit) Wxnnx Extractor for Litter Picker Garden Nabber, Long Arm Extender, Stainless Steel Handy Mobility Aids Neato Robotics Botvac D3 Pro App-Controlled Robot Vacuum (945-0287) Black/Gray - New Lightweight Microfiber Duster With Extension Pole, Washable, Bendable, Hypoallergenic Lint Free Cleaning, With Long Extendable & Retractable Telescopic Pole, For printted kid goat fur jacket white rabbit fur cape printting leopard kid goat fur jacket real leopard cat fur coat jacket Wedding Favors for Guests 100 Pack Mixed Large Skeleton Key Bottle Openers (Copper) with Tag and Pillow Candy Box and kate spade new york Recipe Book - Deco Dot GoBetter Wine Opener with 2 Wine Foil Cutters (Black & Red), Professional Waiter's Corkscrew, Beer and Soda Bottle Opener Functional Nuvantee Pasta Maker - Highest Quality Pasta Machine - 150 Roller with Pasta Cutter - 7 Adjustable Thickness Settings (Renewed) Chef Works Men's Vertical Stripe Chef Pants, Steel Blue, XX-Large Peaceful Chinese Style PowerPoint Template Chinese Ink Style Work Report PowerPoint Template Chinese Red Work Report PowerPoint Template Chinese Style Lotus Flower PowerPoint Template Light Blue Chinese Style PowerPoint Template Furry Pom Earrings Druzy Chokers Daisy Tassel Necklace Holland Earrings Luxe Tassels Jury Mixed Color Front View Nigerian Wig and Gown Complete Set Complete Set of Diamond Wig and Gown Complete Set of Prestige Wig and Gown Complete Set of Chancery Jury Wig and Gown Bernardino Bath's Flame HOWICK'S HALF NELSON Brunswick BRIGHTERWELL\n",
      "Candidate labels: email, sports team, photograph, name of event, url, sports event, price, product model, name of place, description of product\n",
      "Classify Column 2\n",
      "Column 1 || Column 2 || \n",
      "Bye vs Eastown United Details Date Time League Season August 26, 2019 11:59 pm 2019 Outdoor Season 2019 Outdoor Season || Eastown United vs Bye ||\n",
      "|| FC Brikyaat vs East Hills United ||\n",
      "Eastown United vs Downtown Heartsiders Details Date Time League Season August 12, 2019 7:00 pm 2019 Outdoor Season 2019 Outdoor || Downtown Heartsiders vs Eastown United ||\n",
      "FC Brikyaat vs Downtown Heartsiders Details Date Time League Season August 19, 2019 7:00 pm 2019 Outdoor Season 2019 Outdoor || Downtown Heartsiders vs FC Brikyaat ||\n",
      "|| Legia Westside vs Heritage Hill Lyons ||\n",
      "\n",
      "Correct label: CreativeWork/name\n",
      "Values used to represent this label: Personal justice denied : report of the Commission on Wartime Relocation and Internment of Civilians Preparing for post-secondary education : new roles for governments and families The Correspondence of Erasmus : Letters 1802-1925 The French language in the digital age : La langue Française á l'ère du numérique Point process theory and applications : marked point and piecewise deterministic processes Luxury villa design in Sifnos New Villa Complex Design Unique Villa near completion in Porto Heli Modern Stone Villa in Mani, Oitylo area Villa Design - Poros Island MediaTek Dimensity 820 MediaTek Dimensity 1000C MediaTek Dimensity 1000 Series MediaTek Dimensity 800 MT8183 Profittargettrailingstop_101B Trading The Aussie System VHF (Vertical Horizontal Filter) for NT8 Enter in Random Direction – 50% Long, 50% Short StockRatingSystem Red Ops 5 Heroes Among Us Naval SITREP #51 (October 2016) Combat Leader: Core Rules, Solitaire Module & Ostkrieg SET Looking Back on 2014 – Wargaming Recon #127 (audio product) Hans0 tune for 2014+ Roadster, TORs, triple/Ramair filters, ect. Generic PC-V Base Map OEM_Tune_20352 Touring with extra air and exhaust - reduced decel popping mod TPS and ISC stepper adjustment Profittargettrailingstop_101B Trading The Aussie System VHF (Vertical Horizontal Filter) for NT8 Enter in Random Direction – 50% Long, 50% Short StockRatingSystem Summary Description of Plaintiffs Published RO submits TTFI proposal to House Ways and Means Committee Lead litigator Jim Bopp, Jr. presented oral argument in Sixth Court US Treasury replies to RO's Petition RO's FATCA lawsuit supported by deVere Group Medical Malpractice: How It Differs from Other Negligence Claims Supreme Court Issues Landmark LGBT Employment Law Ruling The Legal Consequences President Seeks to Limit Liability of Meat Companies for COVID-19 Supreme Court Issues Landmark LGBT Employment Law Ruling Medical Malpractice: President Seeks to Limit Liability of Meat Companies for COVID-19 Supreme Court Issues Landmark LGBT Employment Law Ruling Medical Malpractice: President Seeks to Limit Liability of Meat Companies for COVID-19 Supreme Court Issues Landmark LGBT Employment Law Ruling Medical Malpractice: Medical Malpractice: How It Differs from Other Negligence Claims Supreme Court Issues Landmark LGBT Employment Law Ruling The Legal Consequences Template City Template City Template City Template City Template City\n",
      "Candidate labels: description of event, local business, date, day of week, time, organization, date and time, name of event, sports team, sports event\n",
      "Classify Column 2\n",
      "Column 1 || Column 2 || Column 3 || \n",
      "</p> <p>We proudly provide in home ABA therapy in Mesa, Arizona at Advanced Autism Services. Our ABA Therapy Care plans || Experience working with individuals diagnosed with autism spectrum disorder and other developmental disabilities || Board Certified Behavior Analyst (BCBA) with AZ Licensure (LBA) in Applied Behavior Analysis ||\n",
      "</p> <p>At Advanced Autism Services we are seeking qualified Behavior Technicians to join our team of knowledgeable and reliable professionals. || Experience working with individuals diagnosed with autism spectrum disorder and other developmental disabilities || Certification as a Registered Behavior Technician (RBT) issued by the Behavior Analyst Certification Board (BACB) with certification number ||\n",
      "</p> <p>Advanced Autism Services is seeking Behavior Technicians to join our team of caring professionals, to provide Applied Behavioral Analysis || Experience working with individuals diagnosed with autism spectrum disorder and other developmental disabilities || Certification as a Registered Behavior Technician (RBT) issued by the Behavior Analyst Certification Board (BACB) with certification number ||\n",
      "</p> <p>We proudly provide in home ABA therapy in Tucson, Arizona at Advanced Autism Services. Our ABA Therapy Care plans || Experience working with individuals diagnosed with autism spectrum disorder and other developmental disabilities || Board Certified Behavior Analyst (BCBA) with AZ Licensure (LBA) in Applied Behavior Analysis ||\n",
      "</p> <p>We are now hiring dedicated, experienced and professional Behavior Technicians to join our team at Advanced Autism Services. We || Experience working with individuals diagnosed with autism spectrum disorder and other developmental disabilities || Certification as a Registered Behavior Technician (RBT) issued by the Behavior Analyst Certification Board (BACB) with certification number ||\n",
      "\n",
      "Correct label: OccupationalExperienceRequirements\n",
      "Values used to represent this label: At least 4 years experience. At least 3 years experience. 2 to 5 years experience. At least 5 years experience. At least 1 year experience. Minumum 0 years experience Minumum 0 years experience Minumum 0 years experience Minumum 0 years experience Minumum 0 years experience Role: Children&#39;s Social Worker - Adoption Location: North Tyneside Pay rate: &#163;26.51 We are looking for an experienced Social Worker Location: Durham Pay rate: &#163;30 per hour We are looking for experienced and passionate Senior social worker to join a Assistant Team Manager Location: Middlesbrough Pay rate: Up to &#163;38 per hour Contract We are urgently seeking an Assistant Team Pertemps has a fantastic opportunity for a number of childrens social workers for contract roles in Wakefield, working within a Pertemps has an urgent vacancy for an experienced children&#39;s social worker within a duty and assessment team in Doncaster. You 2+ years Open Open Open Open Supérieure à 3 ans First experience More than 3 years First experience Supérieure à 3 ans At least 2 winter seasons of snow removal experience At least 2 winter seasons of snow removal experience At least 2 winter seasons of snow removal experience At least 2 winter seasons of snow removal experience At least 2 winter seasons of snow removal experience 3 to 10 years experience. At least 3 years experience. At least 1 year experience. At least 3 years experience. Up to 3 years experience. What do we need from you? Job requirements: - You work accurately and flawlessly; - You are flexibel with the We are looking for physically strong tacklers who are independent but would like to work in a team. In any - The work can sometimes be tough, so make sure you are fit! - You work accurate - You can • You are available for 40 hours per week • You are in good physical condition, because you walk considerable We are really looking for physically strong approachers who are independent but would like to work in a team. In 1 to 4 years 1 to 4 years 1 to 4 years Indifferent Indifferent 5 years 1 year 3 years 2 years 2 years\n",
      "Candidate labels: name of person, identifier, job posting, name of book, name of creative work, description of product, email, job posting description, description of event, name of event\n",
      "Classify Column 3\n",
      "Column 1 || Column 2 || Column 3 || \n",
      "</p> <p>We proudly provide in home ABA therapy in Mesa, Arizona at Advanced Autism Services. Our ABA Therapy Care plans || Experience working with individuals diagnosed with autism spectrum disorder and other developmental disabilities || Board Certified Behavior Analyst (BCBA) with AZ Licensure (LBA) in Applied Behavior Analysis ||\n",
      "</p> <p>At Advanced Autism Services we are seeking qualified Behavior Technicians to join our team of knowledgeable and reliable professionals. || Experience working with individuals diagnosed with autism spectrum disorder and other developmental disabilities || Certification as a Registered Behavior Technician (RBT) issued by the Behavior Analyst Certification Board (BACB) with certification number ||\n",
      "</p> <p>Advanced Autism Services is seeking Behavior Technicians to join our team of caring professionals, to provide Applied Behavioral Analysis || Experience working with individuals diagnosed with autism spectrum disorder and other developmental disabilities || Certification as a Registered Behavior Technician (RBT) issued by the Behavior Analyst Certification Board (BACB) with certification number ||\n",
      "</p> <p>We proudly provide in home ABA therapy in Tucson, Arizona at Advanced Autism Services. Our ABA Therapy Care plans || Experience working with individuals diagnosed with autism spectrum disorder and other developmental disabilities || Board Certified Behavior Analyst (BCBA) with AZ Licensure (LBA) in Applied Behavior Analysis ||\n",
      "</p> <p>We are now hiring dedicated, experienced and professional Behavior Technicians to join our team at Advanced Autism Services. We || Experience working with individuals diagnosed with autism spectrum disorder and other developmental disabilities || Certification as a Registered Behavior Technician (RBT) issued by the Behavior Analyst Certification Board (BACB) with certification number ||\n",
      "\n",
      "Correct label: EducationalOccupationalCredential\n",
      "Values used to represent this label: Man & Women ; Fresh Graduate - 60 Years Old • Male or Female. • Max. age 38 years old. • A Masters degree in Marketing, Mathematics, Business Administration, or Male/Female , Max 30 years old. Pria / Wanita maksimal 28 tahun - Pria/ wanita usia max 40 tahun - Domisli DKI Jakarta - Pengalaman sebagai Sales Analist min 1 tahun - UNAVAILABLE UNAVAILABLE UNAVAILABLE UNAVAILABLE UNAVAILABLE Masters 4 Year Degree 4 Year Degree 4 Year Degree 4 Year Degree Basisschool of geen MBO Basisschool of geen Basisschool of geen MBO Plongeur and you need at least 0 years of industry experience Restauration rapide and you need at least 0 years of industry experience Serveur / Serveuse and you need at least 0 years of industry experience Cuisinier and you need at least 1 years of industry experience Sous-chef and you need at least 0 years of industry experience Basic Education Basic Education Basic Education Basic Education Basic Education * Provide world class customer service and offer customers an unforgettable shopping experience * Build rapport with clients, earning their At Bob's Discount Furniture, we have fun, we love what we do and it shows in our expansive growth! Our * Flexibility to work a 5 day retail schedule that includes nights, weekends (both Saturdays and Sundays for Full Time, At Bob's Discount Furniture, we have fun, we love what we do and it shows in our expansive growth! Our * Flexibility to work a 5 day retail schedule that includes nights, weekends (both Saturdays and Sundays for Full Time, <p><img src=\\\"https://media.9curry.com/system/redactor_assets/pictures/987/content_1598626245700.png\\\" style=\\\"width: 737px;\\\" class=\\\"fr-fic fr-dib\\\"></p> <p>(i) Deputation/ Absorption of officials in the Department of posts: From amongst the regular Dispatch Rider (Group- C) and Group-C <ul><li>He /she must be citizen of India.</li><li>He/ she must be graduate from any recognized University and also must have passed <table><thead><tr><th style=\\\"width: 32.2454%;\\\">Name of the PI’s<br></th><th style=\\\"width: 23.107%;\\\">Post</th><th style=\\\"width: 44.6475%;\\\">Requisite Qualification<br></th></tr></thead><tbody><tr><td style=\\\"width: 32.2454%;\\\">Dr. M. Pitchaimuthu, Pr. Scientist & CoPI, Div. <p>Master Degree in Sociology with Ph.D. (or) NET /SET/JRF/Retired Professor</p> Primary, Middle, Matric, Intermediate, Bachelor, Master Primary, Middle, Matric, Intermediate, Bachelor, Master Primary, Middle, Matric, Intermediate, Bachelor, Master Primary, Middle, Matric, Intermediate, Bachelor, Master Primary, Middle, Matric, Intermediate, Bachelor, Master Not mentioned Not mentioned Not mentioned Not mentioned Not mentioned\n",
      "Candidate labels: name of person, identifier, job posting, name of book, name of creative work, description of product, email, job posting description, description of event, name of event\n",
      "Classify Column 4\n",
      "Column 1 || Column 2 || Column 3 || Column 4 || Column 5 || \n",
      "The Senior Representative, Export processes orders and supports international export accounts in Latin America/Canada for both internal and external customers. || 40 hours per week || Supply Chain & Logistics || Brother USA || JR1553 ||\n",
      "The Associate, Pick, Pack &amp; Ship pulls assembly parts for the gear motor technicians and then packs and ships completed || 40 hours per week || Manufacturing || Brother USA || JR1573 ||\n",
      "<strong>Job Requirements </strong><br><br/><p><strong>Company Description</strong></p><p>Brother International Corporation, the US subsidiary of Japan-based Brother Industries Ltd., is a premier provider of home, ||  || Corporate Operations & Project Management ||  ||  ||\n",
      "The Associate, Sales Engineering provides technical support for internal sales staff and as well as customers on a variety of || 40 hours per week || Engineering || Brother USA || JR1556 ||\n",
      "The Accountant, Income Tax reviews income tax compliance and provisions for Brother International Corporation and its subsidiaries. This position ensures || 40 hours per week || Accounting & Finance || Brother USA || JR1567 ||\n",
      "\n",
      "Correct label: Organization\n",
      "Values used to represent this label: Pelham Public Library Pelham Public Library Pelham Public Library Pelham Public Library Pelham Public Library Dallas Cowboys at Arlington TX on 12/27 3:25PM Texas Longhorns at Austin TX on 11/13 3:30AM Indiana State Sycamores at Terre Haute IN on 10/24 3:30AM Tulsa Golden Hurricane at Tulsa OK on 9/19 3:30AM Jacksonville State Gamecocks at Jacksonville OR on 10/31 3:00PM Andre Marto - North York Real Estate Agents - Realtors Andre Marto - North York Real Estate Agents - Realtors Andre Marto - North York Real Estate Agents - Realtors Andre Marto - North York Real Estate Agents - Realtors Andre Marto - North York Real Estate Agents - Realtors Sikhya Entertainment Mr. Tamborine Man Essential Pictures Dirty Hands Productions Beacon Pictures Beacon Communications First Film Company Manny O Productions Film4 Productions Lipsync Productions Quickfire Films Sigma Films Ltd. Creative Scotland Northern Ireland Screen Nobili-Design.com Nobili-Design.com Nobili-Design.com Nobili-Design.com Nobili-Design.com Philosophy Education Philosophy Education Philosophy Education Philosophy Education Philosophy Education American Academy of Arts and Sciences The World&#039;s Billionaires National Academy of Engineering Center for Research Libraries European Broadcasting Union Organization Organization Organization Organization Organization Maker Cube INC. Maker Cube INC. Maker Cube INC. Maker Cube INC. Maker Cube INC. Linda Lael Miller Jan Beinßen Gerard Alamargot Sui Ishida Benedict Wells\n",
      "Candidate labels: local business, experience requirements, day of week, name of creative work, identifier, job posting description, educational credential, work hours, job posting, category code\n",
      "Classify Column 2\n",
      "Column 1 || Column 2 || \n",
      "J Balvin x BAPE Drop Exclusive Miami Collab, Racks Teaches a Lesson on Colombian Facts | Get in Line || Complex News ||\n",
      "Above the Law: Why Police Almost Never Get Convicted | Complex World || Complex World ||\n",
      "On the Ground in Los Angeles: \\\"This Was a Peaceful Protest Until the Cops Showed Up\\ || Complex News ||\n",
      "City Morgue Talks Fan Love and Destroys a Room in New York City || Complex News ||\n",
      "Here's the First Trailer for 'Rogue One: A Star Wars Story' || Complex News ||\n",
      "\n",
      "Correct label: CreativeWorkSeries\n",
      "Values used to represent this label: The Alienist QI Beyond the Unknown Good Bones Big Brother Australia Outlander Ransom Doom Patrol Broke Broke Adam Ruins Everything The O.C. The O.C. The O.C. Normal People Swamp Thing The Last Dance Wife Swap Henry Danger NOS4A2 Дэнни-Призрак (6+) Эй, Арнольд! (6+) Дэнни-Призрак (6+) Эй, Арнольд! (6+) Эй, Арнольд! (6+) Guy's Grocery Games Ghost Adventures Ghost Adventures Ghost Adventures Nova Vikings Solar Opposites Hannibal DC's Legends of Tomorrow We Are Who We Are Watters' World Deep Dive Bible Study: Messages of Hope Deep Dive Livin' the Bream Crash Landing on You Crash Landing on You Crash Landing on You Crash Landing on You Crash Landing on You Ultimate Tag Buffy the Vampire Slayer Buffy the Vampire Slayer Freaks and Geeks Big Brother Australia\n",
      "Candidate labels: name of event, day of week, brand, description of event, description of movie, email, music artist, name of tv episode, name of creative work, description of product\n",
      "Classify Column 2\n",
      "Column 1 || Column 2 || Column 3 || Column 4 || \n",
      "Credit Repair Lawyers of America - Introduction || GA || 30326 || #750 3355 Lenox Road, ||\n",
      "Action Logistics Medical Courier Service - Introduction || GA || 30336 || 4200 Westpark Drive Suite A, Atlanta, Georgia , ||\n",
      "Quickpro Locksmith - Introduction || GA || 30329 || 2531 Braircliff Rd. Suite #206, ||\n",
      "J R Bespoke Designs - Introduction || GA || 30075 || Crossville Rd, ||\n",
      "|| GA || 30326 || #750 3355 Lenox Road, ||\n",
      "\n",
      "Correct label: addressRegion\n",
      "Values used to represent this label: MD MD MD MD MD MI MI MI MI MI TX NM TX NM TX IL MO IL MO IL IN Jal. OR NM ON ES ES ES ES ES Michigan Michigan Michigan Michigan Michigan FL FL FL FL FL NE NE IA KS IA Qatar Portugal Portugal Brazil Portugal\n",
      "Candidate labels: name of tv episode, category code, organization, email, url, postal code, name of creative work, identifier, street address, local business\n",
      "Classify Column 2\n",
      "Column 1 || Column 2 || \n",
      "Preheat oven to 350F/180C. Generously grease and flour a 10-inch fluted/bundt pan and set aside. Remove the pan from the ||  ||\n",
      "In a medium size bowl combine together the ingredients mentioned in Part 2. Preheat oven at 375F/190C for 15 minutes. || 73.1 ||\n",
      "Grease 8-inch square baking pan or line with foil. Remove from heat and stir in vanilla. Stir in 2 cups ||  ||\n",
      "In a large bowl, whisk together the dry ingredients. Fill the cupcake liners about tow-thirds full with batter. Bake for ||  ||\n",
      "Bake until a toothpick inserted in the center comes out clean, 20-25 minutes. Mine was done around the 21st minute ||  ||\n",
      "\n",
      "Correct label: Energy\n",
      "Values used to represent this label: 147 kcal 68 kcal 499 kcal 376 kcal 110 kcal 393.0 243.0 372.0 156.0 179.0 5 656 403 85 241 421 calories 187 329 217 143 188 kcal 255 kcal 230 kcal 262 kcal 352 kcal 286.0 185.0 283.0 713.0 280.0 186 177 313 379 187 400 calories 341 calories 300 calories 264 calories 577 calories 301 calories 181 calories 224 calories 34 calories 384 calories 360 kcal 292 kcal 465 kcal 530 kcal 446 kcal\n",
      "Candidate labels: description of event, educational credential, product model, weight, review, description of product, description of recipe, name of recipe, quantitative value, itemlist\n"
     ]
    }
   ],
   "source": [
    "for e in ex:\n",
    "    print(f\"Classify Column {oov_tablecolumn_indices[e]+1}\")\n",
    "    print(examples[oov_table_indices[e]])\n",
    "    print(f\"Correct label: {labels[oov_indices[e]]}\")\n",
    "    print(f\"Values used to represent this label: {label_examples[all_labels.index(labels[oov_indices[e]])]}\")\n",
    "    print(f\"Candidate labels: {labels_in_prompt[oov_table_indices[e]]}\")"
   ]
  },
  {
   "cell_type": "code",
   "execution_count": 87,
   "id": "5b8d99d3",
   "metadata": {},
   "outputs": [
    {
     "data": {
      "text/plain": [
       "'EventScheduled EventScheduled EventScheduled EventScheduled EventScheduled EventScheduled EventScheduled EventScheduled EventScheduled EventScheduled https://schema.org/EventCancelled https://schema.org/EventCancelled https://schema.org/EventCancelled https://schema.org/EventCancelled https://schema.org/EventCancelled https://schema.org/EventScheduled https://schema.org/EventScheduled https://schema.org/EventScheduled https://schema.org/EventScheduled https://schema.org/EventScheduled EventScheduled EventScheduled EventScheduled EventScheduled EventScheduled https://schema.org/EventScheduled https://schema.org/EventScheduled https://schema.org/EventScheduled https://schema.org/EventScheduled https://schema.org/EventScheduled EventScheduled EventScheduled EventScheduled EventScheduled EventScheduled EventScheduled EventScheduled EventScheduled EventScheduled EventScheduled Active Active Active Active Active https://schema.org/EventScheduled https://schema.org/EventScheduled https://schema.org/EventScheduled https://schema.org/EventScheduled https://schema.org/EventScheduled'"
      ]
     },
     "execution_count": 87,
     "metadata": {},
     "output_type": "execute_result"
    }
   ],
   "source": [
    "label_examples[all_labels.index(labels[oov_indices[0]])]"
   ]
  },
  {
   "cell_type": "code",
   "execution_count": 89,
   "id": "c5d118a4",
   "metadata": {},
   "outputs": [
    {
     "data": {
      "text/plain": [
       "'item condition, item availability, date and time, book format, sports event, day of week, description of event, name of event, event status, event attendance mode'"
      ]
     },
     "execution_count": 89,
     "metadata": {},
     "output_type": "execute_result"
    }
   ],
   "source": [
    "labels_in_prompt[oov_table_indices[0]]"
   ]
  },
  {
   "cell_type": "code",
   "execution_count": 84,
   "id": "70b24352",
   "metadata": {},
   "outputs": [
    {
     "data": {
      "text/plain": [
       "'EventStatusType'"
      ]
     },
     "execution_count": 84,
     "metadata": {},
     "output_type": "execute_result"
    }
   ],
   "source": [
    "labels[oov_indices[0]]"
   ]
  },
  {
   "cell_type": "code",
   "execution_count": 83,
   "id": "b40b82c8",
   "metadata": {
    "scrolled": true
   },
   "outputs": [
    {
     "name": "stdout",
     "output_type": "stream",
     "text": [
      "17\n",
      "26\n",
      "29\n",
      "30\n",
      "31\n",
      "40\n",
      "41\n",
      "64\n",
      "67\n",
      "72\n",
      "74\n",
      "84\n",
      "91\n",
      "96\n",
      "97\n",
      "98\n",
      "99\n",
      "105\n",
      "106\n",
      "120\n",
      "123\n",
      "124\n",
      "130\n",
      "143\n",
      "154\n",
      "156\n",
      "157\n",
      "159\n",
      "161\n",
      "167\n",
      "174\n",
      "175\n",
      "178\n",
      "183\n"
     ]
    },
    {
     "data": {
      "text/plain": [
       "34"
      ]
     },
     "execution_count": 83,
     "metadata": {},
     "output_type": "execute_result"
    }
   ],
   "source": [
    "correct = 0\n",
    "for i, index in enumerate(oov_indices):\n",
    "    if predictions[index] == labels[index]:\n",
    "        correct += 1\n",
    "        print(i)\n",
    "correct"
   ]
  },
  {
   "cell_type": "markdown",
   "id": "ac7c6aae",
   "metadata": {},
   "source": [
    "## Calculate tokens"
   ]
  },
  {
   "cell_type": "code",
   "execution_count": 66,
   "id": "b56c46e4",
   "metadata": {},
   "outputs": [],
   "source": [
    "# https://github.com/openai/openai-cookbook/blob/main/examples/How_to_count_tokens_with_tiktoken.ipynb\n",
    "import tiktoken\n",
    "def num_tokens_from_messages(messages, model):\n",
    "    \"\"\"Return the number of tokens used by a list of messages.\"\"\"\n",
    "    try:\n",
    "        encoding = tiktoken.encoding_for_model(model)\n",
    "    except KeyError:\n",
    "        print(\"Warning: model not found. Using cl100k_base encoding.\")\n",
    "        encoding = tiktoken.get_encoding(\"cl100k_base\")\n",
    "    if model in {\n",
    "        \"gpt-3.5-turbo-0613\",\n",
    "        \"gpt-3.5-turbo-16k-0613\",\n",
    "        \"gpt-4-0314\",\n",
    "        \"gpt-4-32k-0314\",\n",
    "        \"gpt-4-0613\",\n",
    "        \"gpt-4-32k-0613\",\n",
    "        }:\n",
    "        tokens_per_message = 3\n",
    "        tokens_per_name = 1\n",
    "    elif model == \"gpt-3.5-turbo-0301\":\n",
    "        tokens_per_message = 4  # every message follows <|start|>{role/name}\\n{content}<|end|>\\n\n",
    "        tokens_per_name = -1  # if there's a name, the role is omitted\n",
    "    elif \"gpt-3.5-turbo\" in model:\n",
    "        print(\"Warning: gpt-3.5-turbo may update over time. Returning num tokens assuming gpt-3.5-turbo-0613.\")\n",
    "        return num_tokens_from_messages(messages, model=\"gpt-3.5-turbo-0613\")\n",
    "    elif \"gpt-4\" in model:\n",
    "        print(\"Warning: gpt-4 may update over time. Returning num tokens assuming gpt-4-0613.\")\n",
    "        return num_tokens_from_messages(messages, model=\"gpt-4-0613\")\n",
    "    else:\n",
    "        raise NotImplementedError(\n",
    "            f\"\"\"num_tokens_from_messages() is not implemented for model {model}. See https://github.com/openai/openai-python/blob/main/chatml.md for information on how messages are converted to tokens.\"\"\"\n",
    "        )\n",
    "    num_tokens = 0\n",
    "    for message in messages:\n",
    "        num_tokens += tokens_per_message\n",
    "        for key, value in message.items():\n",
    "            num_tokens += len(encoding.encode(value))\n",
    "            if key == \"name\":\n",
    "                num_tokens += tokens_per_name\n",
    "    num_tokens += 3  # every reply is primed with <|start|>assistant<|message|>\n",
    "    return num_tokens"
   ]
  },
  {
   "cell_type": "code",
   "execution_count": null,
   "id": "c19ee8c9",
   "metadata": {
    "scrolled": true
   },
   "outputs": [],
   "source": [
    "total_token_number = 0\n",
    "for model_name in [\"gpt-4-0613\"]:#\"gpt-3.5-turbo-0301\", \n",
    "    print(model_name)\n",
    "    for dataset in datasets[:1]:\n",
    "        print(dataset)\n",
    "        # Load dataset\n",
    "        examples, labels, test_table_type_labels, train_examples, train_example_labels, train_table_type_labels, labels_to_text, text_to_label, labels_joined, train, test = load_cta_dataset(dataset,\"\")\n",
    "\n",
    "        for nr in [0]:\n",
    "            \n",
    "            for example in tqdm.tqdm(examples, total=len(examples)):\n",
    "                messages = []\n",
    "                \n",
    "                messages.append({\"role\":\"system\", \"content\":f\"You are a world-class data engineer and your task is to annotate the columns of a given table with only one of the following labels that are separated with comma: {labels_joined}.\"})\n",
    "                messages.append({\"role\":\"system\", \"content\":\"Your instructions are: 1. Look at the input given to you and make a table out of it. 2. Look at the cell values in detail. 3. For each column, select a label that best represents the meaning of all cells in the column. 4. Answer with the selected label for each column using the format Column1: label. 5. Answer only with labels from the provided label set!\"})\n",
    "                    \n",
    "                messages.append({\"role\":\"user\", \"content\":f\"Classify these table columns: {example}\"})\n",
    "                \n",
    "                total_token_number += num_tokens_from_messages(messages, model_name)\n",
    "\n",
    "print(total_token_number)"
   ]
  }
 ],
 "metadata": {
  "kernelspec": {
   "display_name": "Python 3 (ipykernel)",
   "language": "python",
   "name": "python3"
  },
  "language_info": {
   "codemirror_mode": {
    "name": "ipython",
    "version": 3
   },
   "file_extension": ".py",
   "mimetype": "text/x-python",
   "name": "python",
   "nbconvert_exporter": "python",
   "pygments_lexer": "ipython3",
   "version": "3.10.9"
  }
 },
 "nbformat": 4,
 "nbformat_minor": 5
}
